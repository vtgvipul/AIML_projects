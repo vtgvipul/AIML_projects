{
 "cells": [
  {
   "cell_type": "code",
   "execution_count": 1,
   "metadata": {},
   "outputs": [],
   "source": [
    "import pandas as pd\n",
    "import numpy as np\n",
    "import matplotlib.pyplot as mp\n",
    "import seaborn as sb\n",
    "from sklearn.model_selection import train_test_split\n",
    "from sklearn.tree import DecisionTreeClassifier\n",
    "from scipy import stats\n",
    "from sklearn.neighbors import KNeighborsClassifier\n",
    "from sklearn.linear_model import LogisticRegression\n",
    "from sklearn.naive_bayes import GaussianNB\n",
    "from sklearn import metrics\n",
    "from sklearn.ensemble import BaggingClassifier\n",
    "from sklearn.ensemble import AdaBoostClassifier\n",
    "from sklearn.ensemble import GradientBoostingClassifier\n",
    "from sklearn.ensemble import RandomForestClassifier"
   ]
  },
  {
   "cell_type": "code",
   "execution_count": 2,
   "metadata": {},
   "outputs": [
    {
     "data": {
      "text/html": [
       "<div>\n",
       "<style scoped>\n",
       "    .dataframe tbody tr th:only-of-type {\n",
       "        vertical-align: middle;\n",
       "    }\n",
       "\n",
       "    .dataframe tbody tr th {\n",
       "        vertical-align: top;\n",
       "    }\n",
       "\n",
       "    .dataframe thead th {\n",
       "        text-align: right;\n",
       "    }\n",
       "</style>\n",
       "<table border=\"1\" class=\"dataframe\">\n",
       "  <thead>\n",
       "    <tr style=\"text-align: right;\">\n",
       "      <th></th>\n",
       "      <th>age</th>\n",
       "      <th>job</th>\n",
       "      <th>marital</th>\n",
       "      <th>education</th>\n",
       "      <th>default</th>\n",
       "      <th>balance</th>\n",
       "      <th>housing</th>\n",
       "      <th>loan</th>\n",
       "      <th>contact</th>\n",
       "      <th>day</th>\n",
       "      <th>month</th>\n",
       "      <th>duration</th>\n",
       "      <th>campaign</th>\n",
       "      <th>pdays</th>\n",
       "      <th>previous</th>\n",
       "      <th>poutcome</th>\n",
       "      <th>Target</th>\n",
       "    </tr>\n",
       "  </thead>\n",
       "  <tbody>\n",
       "    <tr>\n",
       "      <th>0</th>\n",
       "      <td>58</td>\n",
       "      <td>management</td>\n",
       "      <td>married</td>\n",
       "      <td>tertiary</td>\n",
       "      <td>no</td>\n",
       "      <td>2143</td>\n",
       "      <td>yes</td>\n",
       "      <td>no</td>\n",
       "      <td>unknown</td>\n",
       "      <td>5</td>\n",
       "      <td>may</td>\n",
       "      <td>261</td>\n",
       "      <td>1</td>\n",
       "      <td>-1</td>\n",
       "      <td>0</td>\n",
       "      <td>unknown</td>\n",
       "      <td>no</td>\n",
       "    </tr>\n",
       "    <tr>\n",
       "      <th>1</th>\n",
       "      <td>44</td>\n",
       "      <td>technician</td>\n",
       "      <td>single</td>\n",
       "      <td>secondary</td>\n",
       "      <td>no</td>\n",
       "      <td>29</td>\n",
       "      <td>yes</td>\n",
       "      <td>no</td>\n",
       "      <td>unknown</td>\n",
       "      <td>5</td>\n",
       "      <td>may</td>\n",
       "      <td>151</td>\n",
       "      <td>1</td>\n",
       "      <td>-1</td>\n",
       "      <td>0</td>\n",
       "      <td>unknown</td>\n",
       "      <td>no</td>\n",
       "    </tr>\n",
       "    <tr>\n",
       "      <th>2</th>\n",
       "      <td>33</td>\n",
       "      <td>entrepreneur</td>\n",
       "      <td>married</td>\n",
       "      <td>secondary</td>\n",
       "      <td>no</td>\n",
       "      <td>2</td>\n",
       "      <td>yes</td>\n",
       "      <td>yes</td>\n",
       "      <td>unknown</td>\n",
       "      <td>5</td>\n",
       "      <td>may</td>\n",
       "      <td>76</td>\n",
       "      <td>1</td>\n",
       "      <td>-1</td>\n",
       "      <td>0</td>\n",
       "      <td>unknown</td>\n",
       "      <td>no</td>\n",
       "    </tr>\n",
       "    <tr>\n",
       "      <th>3</th>\n",
       "      <td>47</td>\n",
       "      <td>blue-collar</td>\n",
       "      <td>married</td>\n",
       "      <td>unknown</td>\n",
       "      <td>no</td>\n",
       "      <td>1506</td>\n",
       "      <td>yes</td>\n",
       "      <td>no</td>\n",
       "      <td>unknown</td>\n",
       "      <td>5</td>\n",
       "      <td>may</td>\n",
       "      <td>92</td>\n",
       "      <td>1</td>\n",
       "      <td>-1</td>\n",
       "      <td>0</td>\n",
       "      <td>unknown</td>\n",
       "      <td>no</td>\n",
       "    </tr>\n",
       "    <tr>\n",
       "      <th>4</th>\n",
       "      <td>33</td>\n",
       "      <td>unknown</td>\n",
       "      <td>single</td>\n",
       "      <td>unknown</td>\n",
       "      <td>no</td>\n",
       "      <td>1</td>\n",
       "      <td>no</td>\n",
       "      <td>no</td>\n",
       "      <td>unknown</td>\n",
       "      <td>5</td>\n",
       "      <td>may</td>\n",
       "      <td>198</td>\n",
       "      <td>1</td>\n",
       "      <td>-1</td>\n",
       "      <td>0</td>\n",
       "      <td>unknown</td>\n",
       "      <td>no</td>\n",
       "    </tr>\n",
       "    <tr>\n",
       "      <th>5</th>\n",
       "      <td>35</td>\n",
       "      <td>management</td>\n",
       "      <td>married</td>\n",
       "      <td>tertiary</td>\n",
       "      <td>no</td>\n",
       "      <td>231</td>\n",
       "      <td>yes</td>\n",
       "      <td>no</td>\n",
       "      <td>unknown</td>\n",
       "      <td>5</td>\n",
       "      <td>may</td>\n",
       "      <td>139</td>\n",
       "      <td>1</td>\n",
       "      <td>-1</td>\n",
       "      <td>0</td>\n",
       "      <td>unknown</td>\n",
       "      <td>no</td>\n",
       "    </tr>\n",
       "    <tr>\n",
       "      <th>6</th>\n",
       "      <td>28</td>\n",
       "      <td>management</td>\n",
       "      <td>single</td>\n",
       "      <td>tertiary</td>\n",
       "      <td>no</td>\n",
       "      <td>447</td>\n",
       "      <td>yes</td>\n",
       "      <td>yes</td>\n",
       "      <td>unknown</td>\n",
       "      <td>5</td>\n",
       "      <td>may</td>\n",
       "      <td>217</td>\n",
       "      <td>1</td>\n",
       "      <td>-1</td>\n",
       "      <td>0</td>\n",
       "      <td>unknown</td>\n",
       "      <td>no</td>\n",
       "    </tr>\n",
       "    <tr>\n",
       "      <th>7</th>\n",
       "      <td>42</td>\n",
       "      <td>entrepreneur</td>\n",
       "      <td>divorced</td>\n",
       "      <td>tertiary</td>\n",
       "      <td>yes</td>\n",
       "      <td>2</td>\n",
       "      <td>yes</td>\n",
       "      <td>no</td>\n",
       "      <td>unknown</td>\n",
       "      <td>5</td>\n",
       "      <td>may</td>\n",
       "      <td>380</td>\n",
       "      <td>1</td>\n",
       "      <td>-1</td>\n",
       "      <td>0</td>\n",
       "      <td>unknown</td>\n",
       "      <td>no</td>\n",
       "    </tr>\n",
       "    <tr>\n",
       "      <th>8</th>\n",
       "      <td>58</td>\n",
       "      <td>retired</td>\n",
       "      <td>married</td>\n",
       "      <td>primary</td>\n",
       "      <td>no</td>\n",
       "      <td>121</td>\n",
       "      <td>yes</td>\n",
       "      <td>no</td>\n",
       "      <td>unknown</td>\n",
       "      <td>5</td>\n",
       "      <td>may</td>\n",
       "      <td>50</td>\n",
       "      <td>1</td>\n",
       "      <td>-1</td>\n",
       "      <td>0</td>\n",
       "      <td>unknown</td>\n",
       "      <td>no</td>\n",
       "    </tr>\n",
       "    <tr>\n",
       "      <th>9</th>\n",
       "      <td>43</td>\n",
       "      <td>technician</td>\n",
       "      <td>single</td>\n",
       "      <td>secondary</td>\n",
       "      <td>no</td>\n",
       "      <td>593</td>\n",
       "      <td>yes</td>\n",
       "      <td>no</td>\n",
       "      <td>unknown</td>\n",
       "      <td>5</td>\n",
       "      <td>may</td>\n",
       "      <td>55</td>\n",
       "      <td>1</td>\n",
       "      <td>-1</td>\n",
       "      <td>0</td>\n",
       "      <td>unknown</td>\n",
       "      <td>no</td>\n",
       "    </tr>\n",
       "    <tr>\n",
       "      <th>10</th>\n",
       "      <td>41</td>\n",
       "      <td>admin.</td>\n",
       "      <td>divorced</td>\n",
       "      <td>secondary</td>\n",
       "      <td>no</td>\n",
       "      <td>270</td>\n",
       "      <td>yes</td>\n",
       "      <td>no</td>\n",
       "      <td>unknown</td>\n",
       "      <td>5</td>\n",
       "      <td>may</td>\n",
       "      <td>222</td>\n",
       "      <td>1</td>\n",
       "      <td>-1</td>\n",
       "      <td>0</td>\n",
       "      <td>unknown</td>\n",
       "      <td>no</td>\n",
       "    </tr>\n",
       "    <tr>\n",
       "      <th>11</th>\n",
       "      <td>29</td>\n",
       "      <td>admin.</td>\n",
       "      <td>single</td>\n",
       "      <td>secondary</td>\n",
       "      <td>no</td>\n",
       "      <td>390</td>\n",
       "      <td>yes</td>\n",
       "      <td>no</td>\n",
       "      <td>unknown</td>\n",
       "      <td>5</td>\n",
       "      <td>may</td>\n",
       "      <td>137</td>\n",
       "      <td>1</td>\n",
       "      <td>-1</td>\n",
       "      <td>0</td>\n",
       "      <td>unknown</td>\n",
       "      <td>no</td>\n",
       "    </tr>\n",
       "    <tr>\n",
       "      <th>12</th>\n",
       "      <td>53</td>\n",
       "      <td>technician</td>\n",
       "      <td>married</td>\n",
       "      <td>secondary</td>\n",
       "      <td>no</td>\n",
       "      <td>6</td>\n",
       "      <td>yes</td>\n",
       "      <td>no</td>\n",
       "      <td>unknown</td>\n",
       "      <td>5</td>\n",
       "      <td>may</td>\n",
       "      <td>517</td>\n",
       "      <td>1</td>\n",
       "      <td>-1</td>\n",
       "      <td>0</td>\n",
       "      <td>unknown</td>\n",
       "      <td>no</td>\n",
       "    </tr>\n",
       "    <tr>\n",
       "      <th>13</th>\n",
       "      <td>58</td>\n",
       "      <td>technician</td>\n",
       "      <td>married</td>\n",
       "      <td>unknown</td>\n",
       "      <td>no</td>\n",
       "      <td>71</td>\n",
       "      <td>yes</td>\n",
       "      <td>no</td>\n",
       "      <td>unknown</td>\n",
       "      <td>5</td>\n",
       "      <td>may</td>\n",
       "      <td>71</td>\n",
       "      <td>1</td>\n",
       "      <td>-1</td>\n",
       "      <td>0</td>\n",
       "      <td>unknown</td>\n",
       "      <td>no</td>\n",
       "    </tr>\n",
       "    <tr>\n",
       "      <th>14</th>\n",
       "      <td>57</td>\n",
       "      <td>services</td>\n",
       "      <td>married</td>\n",
       "      <td>secondary</td>\n",
       "      <td>no</td>\n",
       "      <td>162</td>\n",
       "      <td>yes</td>\n",
       "      <td>no</td>\n",
       "      <td>unknown</td>\n",
       "      <td>5</td>\n",
       "      <td>may</td>\n",
       "      <td>174</td>\n",
       "      <td>1</td>\n",
       "      <td>-1</td>\n",
       "      <td>0</td>\n",
       "      <td>unknown</td>\n",
       "      <td>no</td>\n",
       "    </tr>\n",
       "  </tbody>\n",
       "</table>\n",
       "</div>"
      ],
      "text/plain": [
       "    age           job   marital  education default  balance housing loan  \\\n",
       "0    58    management   married   tertiary      no     2143     yes   no   \n",
       "1    44    technician    single  secondary      no       29     yes   no   \n",
       "2    33  entrepreneur   married  secondary      no        2     yes  yes   \n",
       "3    47   blue-collar   married    unknown      no     1506     yes   no   \n",
       "4    33       unknown    single    unknown      no        1      no   no   \n",
       "5    35    management   married   tertiary      no      231     yes   no   \n",
       "6    28    management    single   tertiary      no      447     yes  yes   \n",
       "7    42  entrepreneur  divorced   tertiary     yes        2     yes   no   \n",
       "8    58       retired   married    primary      no      121     yes   no   \n",
       "9    43    technician    single  secondary      no      593     yes   no   \n",
       "10   41        admin.  divorced  secondary      no      270     yes   no   \n",
       "11   29        admin.    single  secondary      no      390     yes   no   \n",
       "12   53    technician   married  secondary      no        6     yes   no   \n",
       "13   58    technician   married    unknown      no       71     yes   no   \n",
       "14   57      services   married  secondary      no      162     yes   no   \n",
       "\n",
       "    contact  day month  duration  campaign  pdays  previous poutcome Target  \n",
       "0   unknown    5   may       261         1     -1         0  unknown     no  \n",
       "1   unknown    5   may       151         1     -1         0  unknown     no  \n",
       "2   unknown    5   may        76         1     -1         0  unknown     no  \n",
       "3   unknown    5   may        92         1     -1         0  unknown     no  \n",
       "4   unknown    5   may       198         1     -1         0  unknown     no  \n",
       "5   unknown    5   may       139         1     -1         0  unknown     no  \n",
       "6   unknown    5   may       217         1     -1         0  unknown     no  \n",
       "7   unknown    5   may       380         1     -1         0  unknown     no  \n",
       "8   unknown    5   may        50         1     -1         0  unknown     no  \n",
       "9   unknown    5   may        55         1     -1         0  unknown     no  \n",
       "10  unknown    5   may       222         1     -1         0  unknown     no  \n",
       "11  unknown    5   may       137         1     -1         0  unknown     no  \n",
       "12  unknown    5   may       517         1     -1         0  unknown     no  \n",
       "13  unknown    5   may        71         1     -1         0  unknown     no  \n",
       "14  unknown    5   may       174         1     -1         0  unknown     no  "
      ]
     },
     "execution_count": 2,
     "metadata": {},
     "output_type": "execute_result"
    }
   ],
   "source": [
    "dataSet = pd.read_csv(\"bank-full.csv\")\n",
    "dataSet.head(15)"
   ]
  },
  {
   "cell_type": "code",
   "execution_count": 3,
   "metadata": {},
   "outputs": [
    {
     "name": "stdout",
     "output_type": "stream",
     "text": [
      "Following is the data type of each attribute in the given dataSet: \n",
      "\n",
      "<class 'pandas.core.frame.DataFrame'>\n",
      "RangeIndex: 45211 entries, 0 to 45210\n",
      "Data columns (total 17 columns):\n",
      " #   Column     Non-Null Count  Dtype \n",
      "---  ------     --------------  ----- \n",
      " 0   age        45211 non-null  int64 \n",
      " 1   job        45211 non-null  object\n",
      " 2   marital    45211 non-null  object\n",
      " 3   education  45211 non-null  object\n",
      " 4   default    45211 non-null  object\n",
      " 5   balance    45211 non-null  int64 \n",
      " 6   housing    45211 non-null  object\n",
      " 7   loan       45211 non-null  object\n",
      " 8   contact    45211 non-null  object\n",
      " 9   day        45211 non-null  int64 \n",
      " 10  month      45211 non-null  object\n",
      " 11  duration   45211 non-null  int64 \n",
      " 12  campaign   45211 non-null  int64 \n",
      " 13  pdays      45211 non-null  int64 \n",
      " 14  previous   45211 non-null  int64 \n",
      " 15  poutcome   45211 non-null  object\n",
      " 16  Target     45211 non-null  object\n",
      "dtypes: int64(7), object(10)\n",
      "memory usage: 5.9+ MB\n"
     ]
    }
   ],
   "source": [
    "print (\"Following is the data type of each attribute in the given dataSet: \\n\") \n",
    "dataSet.info()"
   ]
  },
  {
   "cell_type": "markdown",
   "metadata": {},
   "source": [
    "From the above information about the attributes of the dataset none of the attribute hold any null/ missing values. Also, the data is of integer or object type that is a categorical type of data throughout the data set."
   ]
  },
  {
   "cell_type": "code",
   "execution_count": 4,
   "metadata": {},
   "outputs": [
    {
     "name": "stdout",
     "output_type": "stream",
     "text": [
      "The dimension of the given dataset is: \n"
     ]
    },
    {
     "data": {
      "text/plain": [
       "(45211, 17)"
      ]
     },
     "execution_count": 4,
     "metadata": {},
     "output_type": "execute_result"
    }
   ],
   "source": [
    "print (\"The dimension of the given dataset is: \")\n",
    "dataSet.shape"
   ]
  },
  {
   "cell_type": "code",
   "execution_count": 5,
   "metadata": {},
   "outputs": [
    {
     "name": "stdout",
     "output_type": "stream",
     "text": [
      "The 5 point summary of the numerical data from the given banking dataset is as followed: \n"
     ]
    },
    {
     "data": {
      "text/html": [
       "<div>\n",
       "<style scoped>\n",
       "    .dataframe tbody tr th:only-of-type {\n",
       "        vertical-align: middle;\n",
       "    }\n",
       "\n",
       "    .dataframe tbody tr th {\n",
       "        vertical-align: top;\n",
       "    }\n",
       "\n",
       "    .dataframe thead th {\n",
       "        text-align: right;\n",
       "    }\n",
       "</style>\n",
       "<table border=\"1\" class=\"dataframe\">\n",
       "  <thead>\n",
       "    <tr style=\"text-align: right;\">\n",
       "      <th></th>\n",
       "      <th>age</th>\n",
       "      <th>balance</th>\n",
       "      <th>day</th>\n",
       "      <th>duration</th>\n",
       "      <th>campaign</th>\n",
       "      <th>pdays</th>\n",
       "      <th>previous</th>\n",
       "    </tr>\n",
       "  </thead>\n",
       "  <tbody>\n",
       "    <tr>\n",
       "      <th>count</th>\n",
       "      <td>45211.000000</td>\n",
       "      <td>45211.000000</td>\n",
       "      <td>45211.000000</td>\n",
       "      <td>45211.000000</td>\n",
       "      <td>45211.000000</td>\n",
       "      <td>45211.000000</td>\n",
       "      <td>45211.000000</td>\n",
       "    </tr>\n",
       "    <tr>\n",
       "      <th>mean</th>\n",
       "      <td>40.936210</td>\n",
       "      <td>1362.272058</td>\n",
       "      <td>15.806419</td>\n",
       "      <td>258.163080</td>\n",
       "      <td>2.763841</td>\n",
       "      <td>40.197828</td>\n",
       "      <td>0.580323</td>\n",
       "    </tr>\n",
       "    <tr>\n",
       "      <th>std</th>\n",
       "      <td>10.618762</td>\n",
       "      <td>3044.765829</td>\n",
       "      <td>8.322476</td>\n",
       "      <td>257.527812</td>\n",
       "      <td>3.098021</td>\n",
       "      <td>100.128746</td>\n",
       "      <td>2.303441</td>\n",
       "    </tr>\n",
       "    <tr>\n",
       "      <th>min</th>\n",
       "      <td>18.000000</td>\n",
       "      <td>-8019.000000</td>\n",
       "      <td>1.000000</td>\n",
       "      <td>0.000000</td>\n",
       "      <td>1.000000</td>\n",
       "      <td>-1.000000</td>\n",
       "      <td>0.000000</td>\n",
       "    </tr>\n",
       "    <tr>\n",
       "      <th>25%</th>\n",
       "      <td>33.000000</td>\n",
       "      <td>72.000000</td>\n",
       "      <td>8.000000</td>\n",
       "      <td>103.000000</td>\n",
       "      <td>1.000000</td>\n",
       "      <td>-1.000000</td>\n",
       "      <td>0.000000</td>\n",
       "    </tr>\n",
       "    <tr>\n",
       "      <th>50%</th>\n",
       "      <td>39.000000</td>\n",
       "      <td>448.000000</td>\n",
       "      <td>16.000000</td>\n",
       "      <td>180.000000</td>\n",
       "      <td>2.000000</td>\n",
       "      <td>-1.000000</td>\n",
       "      <td>0.000000</td>\n",
       "    </tr>\n",
       "    <tr>\n",
       "      <th>75%</th>\n",
       "      <td>48.000000</td>\n",
       "      <td>1428.000000</td>\n",
       "      <td>21.000000</td>\n",
       "      <td>319.000000</td>\n",
       "      <td>3.000000</td>\n",
       "      <td>-1.000000</td>\n",
       "      <td>0.000000</td>\n",
       "    </tr>\n",
       "    <tr>\n",
       "      <th>max</th>\n",
       "      <td>95.000000</td>\n",
       "      <td>102127.000000</td>\n",
       "      <td>31.000000</td>\n",
       "      <td>4918.000000</td>\n",
       "      <td>63.000000</td>\n",
       "      <td>871.000000</td>\n",
       "      <td>275.000000</td>\n",
       "    </tr>\n",
       "  </tbody>\n",
       "</table>\n",
       "</div>"
      ],
      "text/plain": [
       "                age        balance           day      duration      campaign  \\\n",
       "count  45211.000000   45211.000000  45211.000000  45211.000000  45211.000000   \n",
       "mean      40.936210    1362.272058     15.806419    258.163080      2.763841   \n",
       "std       10.618762    3044.765829      8.322476    257.527812      3.098021   \n",
       "min       18.000000   -8019.000000      1.000000      0.000000      1.000000   \n",
       "25%       33.000000      72.000000      8.000000    103.000000      1.000000   \n",
       "50%       39.000000     448.000000     16.000000    180.000000      2.000000   \n",
       "75%       48.000000    1428.000000     21.000000    319.000000      3.000000   \n",
       "max       95.000000  102127.000000     31.000000   4918.000000     63.000000   \n",
       "\n",
       "              pdays      previous  \n",
       "count  45211.000000  45211.000000  \n",
       "mean      40.197828      0.580323  \n",
       "std      100.128746      2.303441  \n",
       "min       -1.000000      0.000000  \n",
       "25%       -1.000000      0.000000  \n",
       "50%       -1.000000      0.000000  \n",
       "75%       -1.000000      0.000000  \n",
       "max      871.000000    275.000000  "
      ]
     },
     "execution_count": 5,
     "metadata": {},
     "output_type": "execute_result"
    }
   ],
   "source": [
    "print (\"The 5 point summary of the numerical data from the given banking dataset is as followed: \")\n",
    "dataSet.describe()"
   ]
  },
  {
   "cell_type": "code",
   "execution_count": 6,
   "metadata": {},
   "outputs": [
    {
     "name": "stdout",
     "output_type": "stream",
     "text": [
      "Let's plot boxplots of the above numerical dataSet to check if they have any outliers.\n"
     ]
    },
    {
     "data": {
      "text/plain": [
       "<function matplotlib.pyplot.show(*args, **kw)>"
      ]
     },
     "execution_count": 6,
     "metadata": {},
     "output_type": "execute_result"
    },
    {
     "data": {
      "image/png": "[encoded data removed]",
      "text/plain": [
       "<Figure size 432x288 with 7 Axes>"
      ]
     },
     "metadata": {
      "needs_background": "light"
     },
     "output_type": "display_data"
    }
   ],
   "source": [
    "print (\"Let's plot boxplots of the above numerical dataSet to check if they have any outliers.\")\n",
    "numeric_dataSet = ['age', 'balance', 'day', 'duration', 'campaign', 'pdays', 'previous']\n",
    "for i in range(1,8):\n",
    "    mp.subplot(2,4,i)\n",
    "    sb.boxplot(dataSet[numeric_dataSet[1-i]])\n",
    "\n",
    "mp.show"
   ]
  },
  {
   "cell_type": "markdown",
   "metadata": {},
   "source": [
    "From the above grid it is evident that every numerical axis has outliers except for day attribute. Hence, we'll do an outlier treatment using the IQR score for every attribute as followed:"
   ]
  },
  {
   "cell_type": "code",
   "execution_count": 7,
   "metadata": {},
   "outputs": [
    {
     "name": "stdout",
     "output_type": "stream",
     "text": [
      "IQR of the dataSet is: \n",
      "\n",
      "age           15.0\n",
      "balance     1356.0\n",
      "day           13.0\n",
      "duration     216.0\n",
      "campaign       2.0\n",
      "pdays          0.0\n",
      "previous       0.0\n",
      "dtype: float64\n"
     ]
    }
   ],
   "source": [
    "#Treating the outliers using the IQR method:\n",
    "Q1 = dataSet.quantile(0.25)\n",
    "Q3 = dataSet.quantile(0.75)\n",
    "IQR = Q3 - Q1\n",
    "\n",
    "print (\"IQR of the dataSet is: \\n\")\n",
    "print (IQR)"
   ]
  },
  {
   "cell_type": "markdown",
   "metadata": {},
   "source": [
    "From the above IQR, the IQR of pdays and previous is 0 that is the data is too much distributed and mean is not in the centre of the distibution and hence the outliers of these attributes won't be treated."
   ]
  },
  {
   "cell_type": "code",
   "execution_count": 8,
   "metadata": {},
   "outputs": [
    {
     "name": "stdout",
     "output_type": "stream",
     "text": [
      "       Target    age  balance  campaign  contact    day  default  duration  \\\n",
      "0       False  False    False     False    False  False    False     False   \n",
      "1       False  False    False     False    False  False    False     False   \n",
      "2       False  False    False     False    False  False    False     False   \n",
      "3       False  False    False     False    False  False    False     False   \n",
      "4       False  False    False     False    False  False    False     False   \n",
      "...       ...    ...      ...       ...      ...    ...      ...       ...   \n",
      "45206   False  False    False     False    False  False    False     False   \n",
      "45207   False  False    False     False    False  False    False     False   \n",
      "45208   False  False    False     False    False  False    False     False   \n",
      "45209   False  False    False     False    False  False    False     False   \n",
      "45210   False  False    False     False    False  False    False     False   \n",
      "\n",
      "       education  housing    job   loan  marital  month  pdays  poutcome  \\\n",
      "0          False    False  False  False    False  False  False     False   \n",
      "1          False    False  False  False    False  False  False     False   \n",
      "2          False    False  False  False    False  False  False     False   \n",
      "3          False    False  False  False    False  False  False     False   \n",
      "4          False    False  False  False    False  False  False     False   \n",
      "...          ...      ...    ...    ...      ...    ...    ...       ...   \n",
      "45206      False    False  False  False    False  False  False     False   \n",
      "45207      False    False  False  False    False  False  False     False   \n",
      "45208      False    False  False  False    False  False  False     False   \n",
      "45209      False    False  False  False    False  False  False     False   \n",
      "45210      False    False  False  False    False  False  False     False   \n",
      "\n",
      "       previous  \n",
      "0         False  \n",
      "1         False  \n",
      "2         False  \n",
      "3         False  \n",
      "4         False  \n",
      "...         ...  \n",
      "45206     False  \n",
      "45207     False  \n",
      "45208     False  \n",
      "45209     False  \n",
      "45210     False  \n",
      "\n",
      "[45211 rows x 17 columns]\n"
     ]
    },
    {
     "data": {
      "text/html": [
       "<div>\n",
       "<style scoped>\n",
       "    .dataframe tbody tr th:only-of-type {\n",
       "        vertical-align: middle;\n",
       "    }\n",
       "\n",
       "    .dataframe tbody tr th {\n",
       "        vertical-align: top;\n",
       "    }\n",
       "\n",
       "    .dataframe thead th {\n",
       "        text-align: right;\n",
       "    }\n",
       "</style>\n",
       "<table border=\"1\" class=\"dataframe\">\n",
       "  <thead>\n",
       "    <tr style=\"text-align: right;\">\n",
       "      <th></th>\n",
       "      <th>Target</th>\n",
       "      <th>age</th>\n",
       "      <th>balance</th>\n",
       "      <th>campaign</th>\n",
       "      <th>contact</th>\n",
       "      <th>day</th>\n",
       "      <th>default</th>\n",
       "      <th>duration</th>\n",
       "      <th>education</th>\n",
       "      <th>housing</th>\n",
       "      <th>job</th>\n",
       "      <th>loan</th>\n",
       "      <th>marital</th>\n",
       "      <th>month</th>\n",
       "      <th>pdays</th>\n",
       "      <th>poutcome</th>\n",
       "      <th>previous</th>\n",
       "    </tr>\n",
       "  </thead>\n",
       "  <tbody>\n",
       "    <tr>\n",
       "      <th>0</th>\n",
       "      <td>False</td>\n",
       "      <td>False</td>\n",
       "      <td>False</td>\n",
       "      <td>False</td>\n",
       "      <td>False</td>\n",
       "      <td>False</td>\n",
       "      <td>False</td>\n",
       "      <td>False</td>\n",
       "      <td>False</td>\n",
       "      <td>False</td>\n",
       "      <td>False</td>\n",
       "      <td>False</td>\n",
       "      <td>False</td>\n",
       "      <td>False</td>\n",
       "      <td>False</td>\n",
       "      <td>False</td>\n",
       "      <td>False</td>\n",
       "    </tr>\n",
       "    <tr>\n",
       "      <th>1</th>\n",
       "      <td>False</td>\n",
       "      <td>False</td>\n",
       "      <td>False</td>\n",
       "      <td>False</td>\n",
       "      <td>False</td>\n",
       "      <td>False</td>\n",
       "      <td>False</td>\n",
       "      <td>False</td>\n",
       "      <td>False</td>\n",
       "      <td>False</td>\n",
       "      <td>False</td>\n",
       "      <td>False</td>\n",
       "      <td>False</td>\n",
       "      <td>False</td>\n",
       "      <td>False</td>\n",
       "      <td>False</td>\n",
       "      <td>False</td>\n",
       "    </tr>\n",
       "    <tr>\n",
       "      <th>2</th>\n",
       "      <td>False</td>\n",
       "      <td>False</td>\n",
       "      <td>False</td>\n",
       "      <td>False</td>\n",
       "      <td>False</td>\n",
       "      <td>False</td>\n",
       "      <td>False</td>\n",
       "      <td>False</td>\n",
       "      <td>False</td>\n",
       "      <td>False</td>\n",
       "      <td>False</td>\n",
       "      <td>False</td>\n",
       "      <td>False</td>\n",
       "      <td>False</td>\n",
       "      <td>False</td>\n",
       "      <td>False</td>\n",
       "      <td>False</td>\n",
       "    </tr>\n",
       "    <tr>\n",
       "      <th>3</th>\n",
       "      <td>False</td>\n",
       "      <td>False</td>\n",
       "      <td>False</td>\n",
       "      <td>False</td>\n",
       "      <td>False</td>\n",
       "      <td>False</td>\n",
       "      <td>False</td>\n",
       "      <td>False</td>\n",
       "      <td>False</td>\n",
       "      <td>False</td>\n",
       "      <td>False</td>\n",
       "      <td>False</td>\n",
       "      <td>False</td>\n",
       "      <td>False</td>\n",
       "      <td>False</td>\n",
       "      <td>False</td>\n",
       "      <td>False</td>\n",
       "    </tr>\n",
       "    <tr>\n",
       "      <th>4</th>\n",
       "      <td>False</td>\n",
       "      <td>False</td>\n",
       "      <td>False</td>\n",
       "      <td>False</td>\n",
       "      <td>False</td>\n",
       "      <td>False</td>\n",
       "      <td>False</td>\n",
       "      <td>False</td>\n",
       "      <td>False</td>\n",
       "      <td>False</td>\n",
       "      <td>False</td>\n",
       "      <td>False</td>\n",
       "      <td>False</td>\n",
       "      <td>False</td>\n",
       "      <td>False</td>\n",
       "      <td>False</td>\n",
       "      <td>False</td>\n",
       "    </tr>\n",
       "    <tr>\n",
       "      <th>...</th>\n",
       "      <td>...</td>\n",
       "      <td>...</td>\n",
       "      <td>...</td>\n",
       "      <td>...</td>\n",
       "      <td>...</td>\n",
       "      <td>...</td>\n",
       "      <td>...</td>\n",
       "      <td>...</td>\n",
       "      <td>...</td>\n",
       "      <td>...</td>\n",
       "      <td>...</td>\n",
       "      <td>...</td>\n",
       "      <td>...</td>\n",
       "      <td>...</td>\n",
       "      <td>...</td>\n",
       "      <td>...</td>\n",
       "      <td>...</td>\n",
       "    </tr>\n",
       "    <tr>\n",
       "      <th>45206</th>\n",
       "      <td>False</td>\n",
       "      <td>False</td>\n",
       "      <td>False</td>\n",
       "      <td>False</td>\n",
       "      <td>False</td>\n",
       "      <td>False</td>\n",
       "      <td>False</td>\n",
       "      <td>True</td>\n",
       "      <td>False</td>\n",
       "      <td>False</td>\n",
       "      <td>False</td>\n",
       "      <td>False</td>\n",
       "      <td>False</td>\n",
       "      <td>False</td>\n",
       "      <td>False</td>\n",
       "      <td>False</td>\n",
       "      <td>False</td>\n",
       "    </tr>\n",
       "    <tr>\n",
       "      <th>45207</th>\n",
       "      <td>False</td>\n",
       "      <td>True</td>\n",
       "      <td>False</td>\n",
       "      <td>False</td>\n",
       "      <td>False</td>\n",
       "      <td>False</td>\n",
       "      <td>False</td>\n",
       "      <td>False</td>\n",
       "      <td>False</td>\n",
       "      <td>False</td>\n",
       "      <td>False</td>\n",
       "      <td>False</td>\n",
       "      <td>False</td>\n",
       "      <td>False</td>\n",
       "      <td>False</td>\n",
       "      <td>False</td>\n",
       "      <td>False</td>\n",
       "    </tr>\n",
       "    <tr>\n",
       "      <th>45208</th>\n",
       "      <td>False</td>\n",
       "      <td>True</td>\n",
       "      <td>True</td>\n",
       "      <td>False</td>\n",
       "      <td>False</td>\n",
       "      <td>False</td>\n",
       "      <td>False</td>\n",
       "      <td>True</td>\n",
       "      <td>False</td>\n",
       "      <td>False</td>\n",
       "      <td>False</td>\n",
       "      <td>False</td>\n",
       "      <td>False</td>\n",
       "      <td>False</td>\n",
       "      <td>True</td>\n",
       "      <td>False</td>\n",
       "      <td>True</td>\n",
       "    </tr>\n",
       "    <tr>\n",
       "      <th>45209</th>\n",
       "      <td>False</td>\n",
       "      <td>False</td>\n",
       "      <td>False</td>\n",
       "      <td>False</td>\n",
       "      <td>False</td>\n",
       "      <td>False</td>\n",
       "      <td>False</td>\n",
       "      <td>False</td>\n",
       "      <td>False</td>\n",
       "      <td>False</td>\n",
       "      <td>False</td>\n",
       "      <td>False</td>\n",
       "      <td>False</td>\n",
       "      <td>False</td>\n",
       "      <td>False</td>\n",
       "      <td>False</td>\n",
       "      <td>False</td>\n",
       "    </tr>\n",
       "    <tr>\n",
       "      <th>45210</th>\n",
       "      <td>False</td>\n",
       "      <td>False</td>\n",
       "      <td>False</td>\n",
       "      <td>False</td>\n",
       "      <td>False</td>\n",
       "      <td>False</td>\n",
       "      <td>False</td>\n",
       "      <td>False</td>\n",
       "      <td>False</td>\n",
       "      <td>False</td>\n",
       "      <td>False</td>\n",
       "      <td>False</td>\n",
       "      <td>False</td>\n",
       "      <td>False</td>\n",
       "      <td>True</td>\n",
       "      <td>False</td>\n",
       "      <td>True</td>\n",
       "    </tr>\n",
       "  </tbody>\n",
       "</table>\n",
       "<p>45211 rows × 17 columns</p>\n",
       "</div>"
      ],
      "text/plain": [
       "       Target    age  balance  campaign  contact    day  default  duration  \\\n",
       "0       False  False    False     False    False  False    False     False   \n",
       "1       False  False    False     False    False  False    False     False   \n",
       "2       False  False    False     False    False  False    False     False   \n",
       "3       False  False    False     False    False  False    False     False   \n",
       "4       False  False    False     False    False  False    False     False   \n",
       "...       ...    ...      ...       ...      ...    ...      ...       ...   \n",
       "45206   False  False    False     False    False  False    False      True   \n",
       "45207   False   True    False     False    False  False    False     False   \n",
       "45208   False   True     True     False    False  False    False      True   \n",
       "45209   False  False    False     False    False  False    False     False   \n",
       "45210   False  False    False     False    False  False    False     False   \n",
       "\n",
       "       education  housing    job   loan  marital  month  pdays  poutcome  \\\n",
       "0          False    False  False  False    False  False  False     False   \n",
       "1          False    False  False  False    False  False  False     False   \n",
       "2          False    False  False  False    False  False  False     False   \n",
       "3          False    False  False  False    False  False  False     False   \n",
       "4          False    False  False  False    False  False  False     False   \n",
       "...          ...      ...    ...    ...      ...    ...    ...       ...   \n",
       "45206      False    False  False  False    False  False  False     False   \n",
       "45207      False    False  False  False    False  False  False     False   \n",
       "45208      False    False  False  False    False  False   True     False   \n",
       "45209      False    False  False  False    False  False  False     False   \n",
       "45210      False    False  False  False    False  False   True     False   \n",
       "\n",
       "       previous  \n",
       "0         False  \n",
       "1         False  \n",
       "2         False  \n",
       "3         False  \n",
       "4         False  \n",
       "...         ...  \n",
       "45206     False  \n",
       "45207     False  \n",
       "45208      True  \n",
       "45209     False  \n",
       "45210      True  \n",
       "\n",
       "[45211 rows x 17 columns]"
      ]
     },
     "execution_count": 8,
     "metadata": {},
     "output_type": "execute_result"
    }
   ],
   "source": [
    "print(dataSet < (Q1-1.5*IQR)) or (dataSet > (Q3+1.5*IQR))"
   ]
  },
  {
   "cell_type": "markdown",
   "metadata": {},
   "source": [
    "From the above table, True indicates there is an outlier present while False indicate that the value is valid."
   ]
  },
  {
   "cell_type": "code",
   "execution_count": 9,
   "metadata": {},
   "outputs": [],
   "source": [
    "dataSet_withOutliers = dataSet.drop(['pdays','previous'],axis=1)"
   ]
  },
  {
   "cell_type": "code",
   "execution_count": 10,
   "metadata": {},
   "outputs": [
    {
     "name": "stderr",
     "output_type": "stream",
     "text": [
      "W:\\AIML_Labs\\Softwares\\Anaconda\\lib\\site-packages\\ipykernel_launcher.py:3: SettingWithCopyWarning: \n",
      "A value is trying to be set on a copy of a slice from a DataFrame.\n",
      "Try using .loc[row_indexer,col_indexer] = value instead\n",
      "\n",
      "See the caveats in the documentation: https://pandas.pydata.org/pandas-docs/stable/user_guide/indexing.html#returning-a-view-versus-a-copy\n",
      "  This is separate from the ipykernel package so we can avoid doing imports until\n",
      "W:\\AIML_Labs\\Softwares\\Anaconda\\lib\\site-packages\\ipykernel_launcher.py:4: SettingWithCopyWarning: \n",
      "A value is trying to be set on a copy of a slice from a DataFrame.\n",
      "Try using .loc[row_indexer,col_indexer] = value instead\n",
      "\n",
      "See the caveats in the documentation: https://pandas.pydata.org/pandas-docs/stable/user_guide/indexing.html#returning-a-view-versus-a-copy\n",
      "  after removing the cwd from sys.path.\n"
     ]
    },
    {
     "data": {
      "text/plain": [
       "(28193, 17)"
      ]
     },
     "execution_count": 10,
     "metadata": {},
     "output_type": "execute_result"
    }
   ],
   "source": [
    "dataSet_withoutOutliers= dataSet_withOutliers[~((dataSet < (Q1 - 1.5 * IQR)) |(dataSet > (Q3 + 1.5 * IQR))).any(axis=1)]\n",
    "#dataSet = pd.concat([dataSet['pdays','previous'], dataSet_withoutOutliers], axis =1)\n",
    "dataSet_withoutOutliers['pdays'] = dataSet['pdays']\n",
    "dataSet_withoutOutliers['previous'] = dataSet['previous']\n",
    "\n",
    "dataSet_withoutOutliers.shape"
   ]
  },
  {
   "cell_type": "markdown",
   "metadata": {},
   "source": [
    "Now treating the non numeric data to make it favorable for futher model building, this process will assign every non-numeric category an integer. This will help in further processing of finding a correlation and model building and evaluation."
   ]
  },
  {
   "cell_type": "code",
   "execution_count": 11,
   "metadata": {},
   "outputs": [],
   "source": [
    "#From the given data set following attributes are non-numeric with data type as object: Job, Marital, Education, Default, Housing, Loan, Contact, Month, poutcome, Target.\n",
    "#Converting this data type 'object' to 'categorical':\n",
    "def objConverter(data):\n",
    "    for attribute in data:\n",
    "        if data[attribute].dtype =='object':\n",
    "            data[attribute] = pd.Categorical(data[attribute])\n",
    "\n",
    "    print (\"Following dataSet has all the object type attributes converted to 'Categorical':\\n\")\n",
    "    data.info()"
   ]
  },
  {
   "cell_type": "code",
   "execution_count": 12,
   "metadata": {},
   "outputs": [],
   "source": [
    "#Following basic functions would be used to evaluate the models:\n",
    "def create_confusionMat(test=[], pred=[]):\n",
    "    confMatrix = metrics.confusion_matrix(test, pred, labels=[1, 0])\n",
    "    confM_data = pd.DataFrame(confMatrix, index = [i for i in ['1', '0']],\n",
    "                                        columns = [i for i in ['Predict 1', 'Predict 0']])\n",
    "    sb.heatmap(confM_data, annot=True, )\n",
    "    \n",
    "def cal_accuracy(test = [], pred = []):\n",
    "    print (\"Accuracy of the model is: \" + str(metrics.accuracy_score(test, pred)))\n",
    "    \n",
    "def classification_report_of_model(test=[], pred = []):\n",
    "    print (\"The classificaiton report of the model is: \")\n",
    "    print (metrics.classification_report(test, pred, labels=[1, 0]))\n",
    "\n",
    "def cal_AUC(model):\n",
    "    prob = model.predict_proba(x_test)\n",
    "    preds = prob[:,1]\n",
    "    fpr, tpr, threshold = metrics.roc_curve(y_test, preds)\n",
    "    roc_auc = metrics.auc(fpr,tpr)\n",
    "    print (\"The area under the curve is: \"+ str(roc_auc))\n",
    "    return (roc_auc)"
   ]
  },
  {
   "cell_type": "code",
   "execution_count": 13,
   "metadata": {},
   "outputs": [
    {
     "name": "stdout",
     "output_type": "stream",
     "text": [
      "Following dataSet has all the object type attributes converted to 'Categorical':\n",
      "\n",
      "<class 'pandas.core.frame.DataFrame'>\n",
      "RangeIndex: 45211 entries, 0 to 45210\n",
      "Data columns (total 17 columns):\n",
      " #   Column     Non-Null Count  Dtype   \n",
      "---  ------     --------------  -----   \n",
      " 0   age        45211 non-null  int64   \n",
      " 1   job        45211 non-null  category\n",
      " 2   marital    45211 non-null  category\n",
      " 3   education  45211 non-null  category\n",
      " 4   default    45211 non-null  category\n",
      " 5   balance    45211 non-null  int64   \n",
      " 6   housing    45211 non-null  category\n",
      " 7   loan       45211 non-null  category\n",
      " 8   contact    45211 non-null  category\n",
      " 9   day        45211 non-null  int64   \n",
      " 10  month      45211 non-null  category\n",
      " 11  duration   45211 non-null  int64   \n",
      " 12  campaign   45211 non-null  int64   \n",
      " 13  pdays      45211 non-null  int64   \n",
      " 14  previous   45211 non-null  int64   \n",
      " 15  poutcome   45211 non-null  category\n",
      " 16  Target     45211 non-null  category\n",
      "dtypes: category(10), int64(7)\n",
      "memory usage: 2.8 MB\n"
     ]
    }
   ],
   "source": [
    "objConverter(dataSet)"
   ]
  },
  {
   "cell_type": "code",
   "execution_count": 14,
   "metadata": {},
   "outputs": [
    {
     "name": "stderr",
     "output_type": "stream",
     "text": [
      "W:\\AIML_Labs\\Softwares\\Anaconda\\lib\\site-packages\\ipykernel_launcher.py:6: SettingWithCopyWarning: \n",
      "A value is trying to be set on a copy of a slice from a DataFrame.\n",
      "Try using .loc[row_indexer,col_indexer] = value instead\n",
      "\n",
      "See the caveats in the documentation: https://pandas.pydata.org/pandas-docs/stable/user_guide/indexing.html#returning-a-view-versus-a-copy\n",
      "  \n"
     ]
    },
    {
     "name": "stdout",
     "output_type": "stream",
     "text": [
      "Following dataSet has all the object type attributes converted to 'Categorical':\n",
      "\n",
      "<class 'pandas.core.frame.DataFrame'>\n",
      "Int64Index: 28193 entries, 0 to 45209\n",
      "Data columns (total 17 columns):\n",
      " #   Column     Non-Null Count  Dtype   \n",
      "---  ------     --------------  -----   \n",
      " 0   age        28193 non-null  int64   \n",
      " 1   job        28193 non-null  category\n",
      " 2   marital    28193 non-null  category\n",
      " 3   education  28193 non-null  category\n",
      " 4   default    28193 non-null  category\n",
      " 5   balance    28193 non-null  int64   \n",
      " 6   housing    28193 non-null  category\n",
      " 7   loan       28193 non-null  category\n",
      " 8   contact    28193 non-null  category\n",
      " 9   day        28193 non-null  int64   \n",
      " 10  month      28193 non-null  category\n",
      " 11  duration   28193 non-null  int64   \n",
      " 12  campaign   28193 non-null  int64   \n",
      " 13  poutcome   28193 non-null  category\n",
      " 14  Target     28193 non-null  category\n",
      " 15  pdays      28193 non-null  int64   \n",
      " 16  previous   28193 non-null  int64   \n",
      "dtypes: category(10), int64(7)\n",
      "memory usage: 2.0 MB\n"
     ]
    }
   ],
   "source": [
    "objConverter(dataSet_withoutOutliers)"
   ]
  },
  {
   "cell_type": "markdown",
   "metadata": {},
   "source": [
    "Now there's no attribute with data type as 'object'. Now each of the categorical data will be assigned a numerical value to aid a numerical treatment and calculation of the dataset. Every categorical data will be assigned a unique number from 0 to n, depending on the categories that attribute hold. "
   ]
  },
  {
   "cell_type": "code",
   "execution_count": 15,
   "metadata": {},
   "outputs": [],
   "source": [
    "#The below dictionary of dictionaries will be a numeric assignment of each category in every categorical attribute. \n",
    "num_cat_structure = {\n",
    "                     'job'      : {'admin.':0, 'blue-collar':1, 'entrepreneur':2, 'housemaid':3,'management':4, 'retired':5,\n",
    "                                   'self-employed':6,'services':7, 'student':8, 'technician':9, 'unemployed':10, 'unknown':11},\n",
    "                     'marital'  : {'divorced':1,'married':2,'single':3},\n",
    "                     'education': {'primary':1,'secondary':2,'tertiary':3,'unknown':4},\n",
    "                     'default'  : {'no':1,'yes':2},\n",
    "                     'housing'  : {'no':1,'yes':2},\n",
    "                     'loan'     : {'no':1,'yes':2},\n",
    "                     'contact'  : {'cellular':0,'telephone':1, 'unknown':3},\n",
    "                     'month'    : {'jan':1, 'feb':2, 'mar':3, 'apr':4,'may':5,'jun':6,\n",
    "                                   'jul':7, 'aug':8, 'sep':9, 'oct':10, 'nov':11, 'dec':12},\n",
    "                     'poutcome' : {'failure':0,'other':1,'success':2, 'unknown': 3},\n",
    "                     'Target'   : {'yes':1, 'no':0}\n",
    "                     \n",
    "                    }\n",
    "\n",
    "dataSet = dataSet.replace(num_cat_structure)\n",
    "dataSet_withoutOutliers = dataSet_withoutOutliers.replace(num_cat_structure)"
   ]
  },
  {
   "cell_type": "markdown",
   "metadata": {},
   "source": [
    "Now the new dataSet has no non-numeric values as all the categorical values are replaced by its categorised numerical. The data now looks like this:"
   ]
  },
  {
   "cell_type": "code",
   "execution_count": 16,
   "metadata": {},
   "outputs": [
    {
     "name": "stdout",
     "output_type": "stream",
     "text": [
      "The dataSet now looks like this: \n",
      "\n"
     ]
    },
    {
     "data": {
      "text/html": [
       "<div>\n",
       "<style scoped>\n",
       "    .dataframe tbody tr th:only-of-type {\n",
       "        vertical-align: middle;\n",
       "    }\n",
       "\n",
       "    .dataframe tbody tr th {\n",
       "        vertical-align: top;\n",
       "    }\n",
       "\n",
       "    .dataframe thead th {\n",
       "        text-align: right;\n",
       "    }\n",
       "</style>\n",
       "<table border=\"1\" class=\"dataframe\">\n",
       "  <thead>\n",
       "    <tr style=\"text-align: right;\">\n",
       "      <th></th>\n",
       "      <th>age</th>\n",
       "      <th>job</th>\n",
       "      <th>marital</th>\n",
       "      <th>education</th>\n",
       "      <th>default</th>\n",
       "      <th>balance</th>\n",
       "      <th>housing</th>\n",
       "      <th>loan</th>\n",
       "      <th>contact</th>\n",
       "      <th>day</th>\n",
       "      <th>month</th>\n",
       "      <th>duration</th>\n",
       "      <th>campaign</th>\n",
       "      <th>pdays</th>\n",
       "      <th>previous</th>\n",
       "      <th>poutcome</th>\n",
       "      <th>Target</th>\n",
       "    </tr>\n",
       "  </thead>\n",
       "  <tbody>\n",
       "    <tr>\n",
       "      <th>0</th>\n",
       "      <td>58</td>\n",
       "      <td>4</td>\n",
       "      <td>2</td>\n",
       "      <td>3</td>\n",
       "      <td>1</td>\n",
       "      <td>2143</td>\n",
       "      <td>2</td>\n",
       "      <td>1</td>\n",
       "      <td>3</td>\n",
       "      <td>5</td>\n",
       "      <td>5</td>\n",
       "      <td>261</td>\n",
       "      <td>1</td>\n",
       "      <td>-1</td>\n",
       "      <td>0</td>\n",
       "      <td>3</td>\n",
       "      <td>0</td>\n",
       "    </tr>\n",
       "    <tr>\n",
       "      <th>1</th>\n",
       "      <td>44</td>\n",
       "      <td>9</td>\n",
       "      <td>3</td>\n",
       "      <td>2</td>\n",
       "      <td>1</td>\n",
       "      <td>29</td>\n",
       "      <td>2</td>\n",
       "      <td>1</td>\n",
       "      <td>3</td>\n",
       "      <td>5</td>\n",
       "      <td>5</td>\n",
       "      <td>151</td>\n",
       "      <td>1</td>\n",
       "      <td>-1</td>\n",
       "      <td>0</td>\n",
       "      <td>3</td>\n",
       "      <td>0</td>\n",
       "    </tr>\n",
       "    <tr>\n",
       "      <th>2</th>\n",
       "      <td>33</td>\n",
       "      <td>2</td>\n",
       "      <td>2</td>\n",
       "      <td>2</td>\n",
       "      <td>1</td>\n",
       "      <td>2</td>\n",
       "      <td>2</td>\n",
       "      <td>2</td>\n",
       "      <td>3</td>\n",
       "      <td>5</td>\n",
       "      <td>5</td>\n",
       "      <td>76</td>\n",
       "      <td>1</td>\n",
       "      <td>-1</td>\n",
       "      <td>0</td>\n",
       "      <td>3</td>\n",
       "      <td>0</td>\n",
       "    </tr>\n",
       "    <tr>\n",
       "      <th>3</th>\n",
       "      <td>47</td>\n",
       "      <td>1</td>\n",
       "      <td>2</td>\n",
       "      <td>4</td>\n",
       "      <td>1</td>\n",
       "      <td>1506</td>\n",
       "      <td>2</td>\n",
       "      <td>1</td>\n",
       "      <td>3</td>\n",
       "      <td>5</td>\n",
       "      <td>5</td>\n",
       "      <td>92</td>\n",
       "      <td>1</td>\n",
       "      <td>-1</td>\n",
       "      <td>0</td>\n",
       "      <td>3</td>\n",
       "      <td>0</td>\n",
       "    </tr>\n",
       "    <tr>\n",
       "      <th>4</th>\n",
       "      <td>33</td>\n",
       "      <td>11</td>\n",
       "      <td>3</td>\n",
       "      <td>4</td>\n",
       "      <td>1</td>\n",
       "      <td>1</td>\n",
       "      <td>1</td>\n",
       "      <td>1</td>\n",
       "      <td>3</td>\n",
       "      <td>5</td>\n",
       "      <td>5</td>\n",
       "      <td>198</td>\n",
       "      <td>1</td>\n",
       "      <td>-1</td>\n",
       "      <td>0</td>\n",
       "      <td>3</td>\n",
       "      <td>0</td>\n",
       "    </tr>\n",
       "    <tr>\n",
       "      <th>5</th>\n",
       "      <td>35</td>\n",
       "      <td>4</td>\n",
       "      <td>2</td>\n",
       "      <td>3</td>\n",
       "      <td>1</td>\n",
       "      <td>231</td>\n",
       "      <td>2</td>\n",
       "      <td>1</td>\n",
       "      <td>3</td>\n",
       "      <td>5</td>\n",
       "      <td>5</td>\n",
       "      <td>139</td>\n",
       "      <td>1</td>\n",
       "      <td>-1</td>\n",
       "      <td>0</td>\n",
       "      <td>3</td>\n",
       "      <td>0</td>\n",
       "    </tr>\n",
       "    <tr>\n",
       "      <th>6</th>\n",
       "      <td>28</td>\n",
       "      <td>4</td>\n",
       "      <td>3</td>\n",
       "      <td>3</td>\n",
       "      <td>1</td>\n",
       "      <td>447</td>\n",
       "      <td>2</td>\n",
       "      <td>2</td>\n",
       "      <td>3</td>\n",
       "      <td>5</td>\n",
       "      <td>5</td>\n",
       "      <td>217</td>\n",
       "      <td>1</td>\n",
       "      <td>-1</td>\n",
       "      <td>0</td>\n",
       "      <td>3</td>\n",
       "      <td>0</td>\n",
       "    </tr>\n",
       "    <tr>\n",
       "      <th>7</th>\n",
       "      <td>42</td>\n",
       "      <td>2</td>\n",
       "      <td>1</td>\n",
       "      <td>3</td>\n",
       "      <td>2</td>\n",
       "      <td>2</td>\n",
       "      <td>2</td>\n",
       "      <td>1</td>\n",
       "      <td>3</td>\n",
       "      <td>5</td>\n",
       "      <td>5</td>\n",
       "      <td>380</td>\n",
       "      <td>1</td>\n",
       "      <td>-1</td>\n",
       "      <td>0</td>\n",
       "      <td>3</td>\n",
       "      <td>0</td>\n",
       "    </tr>\n",
       "    <tr>\n",
       "      <th>8</th>\n",
       "      <td>58</td>\n",
       "      <td>5</td>\n",
       "      <td>2</td>\n",
       "      <td>1</td>\n",
       "      <td>1</td>\n",
       "      <td>121</td>\n",
       "      <td>2</td>\n",
       "      <td>1</td>\n",
       "      <td>3</td>\n",
       "      <td>5</td>\n",
       "      <td>5</td>\n",
       "      <td>50</td>\n",
       "      <td>1</td>\n",
       "      <td>-1</td>\n",
       "      <td>0</td>\n",
       "      <td>3</td>\n",
       "      <td>0</td>\n",
       "    </tr>\n",
       "    <tr>\n",
       "      <th>9</th>\n",
       "      <td>43</td>\n",
       "      <td>9</td>\n",
       "      <td>3</td>\n",
       "      <td>2</td>\n",
       "      <td>1</td>\n",
       "      <td>593</td>\n",
       "      <td>2</td>\n",
       "      <td>1</td>\n",
       "      <td>3</td>\n",
       "      <td>5</td>\n",
       "      <td>5</td>\n",
       "      <td>55</td>\n",
       "      <td>1</td>\n",
       "      <td>-1</td>\n",
       "      <td>0</td>\n",
       "      <td>3</td>\n",
       "      <td>0</td>\n",
       "    </tr>\n",
       "  </tbody>\n",
       "</table>\n",
       "</div>"
      ],
      "text/plain": [
       "   age  job  marital  education  default  balance  housing  loan  contact  \\\n",
       "0   58    4        2          3        1     2143        2     1        3   \n",
       "1   44    9        3          2        1       29        2     1        3   \n",
       "2   33    2        2          2        1        2        2     2        3   \n",
       "3   47    1        2          4        1     1506        2     1        3   \n",
       "4   33   11        3          4        1        1        1     1        3   \n",
       "5   35    4        2          3        1      231        2     1        3   \n",
       "6   28    4        3          3        1      447        2     2        3   \n",
       "7   42    2        1          3        2        2        2     1        3   \n",
       "8   58    5        2          1        1      121        2     1        3   \n",
       "9   43    9        3          2        1      593        2     1        3   \n",
       "\n",
       "   day  month  duration  campaign  pdays  previous  poutcome  Target  \n",
       "0    5      5       261         1     -1         0         3       0  \n",
       "1    5      5       151         1     -1         0         3       0  \n",
       "2    5      5        76         1     -1         0         3       0  \n",
       "3    5      5        92         1     -1         0         3       0  \n",
       "4    5      5       198         1     -1         0         3       0  \n",
       "5    5      5       139         1     -1         0         3       0  \n",
       "6    5      5       217         1     -1         0         3       0  \n",
       "7    5      5       380         1     -1         0         3       0  \n",
       "8    5      5        50         1     -1         0         3       0  \n",
       "9    5      5        55         1     -1         0         3       0  "
      ]
     },
     "execution_count": 16,
     "metadata": {},
     "output_type": "execute_result"
    }
   ],
   "source": [
    "print (\"The dataSet now looks like this: \\n\")\n",
    "dataSet.head(10)"
   ]
  },
  {
   "cell_type": "code",
   "execution_count": 17,
   "metadata": {},
   "outputs": [
    {
     "name": "stdout",
     "output_type": "stream",
     "text": [
      "The dataSet without outliers now looks like this: \n",
      "\n"
     ]
    },
    {
     "data": {
      "text/html": [
       "<div>\n",
       "<style scoped>\n",
       "    .dataframe tbody tr th:only-of-type {\n",
       "        vertical-align: middle;\n",
       "    }\n",
       "\n",
       "    .dataframe tbody tr th {\n",
       "        vertical-align: top;\n",
       "    }\n",
       "\n",
       "    .dataframe thead th {\n",
       "        text-align: right;\n",
       "    }\n",
       "</style>\n",
       "<table border=\"1\" class=\"dataframe\">\n",
       "  <thead>\n",
       "    <tr style=\"text-align: right;\">\n",
       "      <th></th>\n",
       "      <th>age</th>\n",
       "      <th>job</th>\n",
       "      <th>marital</th>\n",
       "      <th>education</th>\n",
       "      <th>default</th>\n",
       "      <th>balance</th>\n",
       "      <th>housing</th>\n",
       "      <th>loan</th>\n",
       "      <th>contact</th>\n",
       "      <th>day</th>\n",
       "      <th>month</th>\n",
       "      <th>duration</th>\n",
       "      <th>campaign</th>\n",
       "      <th>poutcome</th>\n",
       "      <th>Target</th>\n",
       "      <th>pdays</th>\n",
       "      <th>previous</th>\n",
       "    </tr>\n",
       "  </thead>\n",
       "  <tbody>\n",
       "    <tr>\n",
       "      <th>0</th>\n",
       "      <td>58</td>\n",
       "      <td>4</td>\n",
       "      <td>2</td>\n",
       "      <td>3</td>\n",
       "      <td>1</td>\n",
       "      <td>2143</td>\n",
       "      <td>2</td>\n",
       "      <td>1</td>\n",
       "      <td>3</td>\n",
       "      <td>5</td>\n",
       "      <td>5</td>\n",
       "      <td>261</td>\n",
       "      <td>1</td>\n",
       "      <td>3</td>\n",
       "      <td>0</td>\n",
       "      <td>-1</td>\n",
       "      <td>0</td>\n",
       "    </tr>\n",
       "    <tr>\n",
       "      <th>1</th>\n",
       "      <td>44</td>\n",
       "      <td>9</td>\n",
       "      <td>3</td>\n",
       "      <td>2</td>\n",
       "      <td>1</td>\n",
       "      <td>29</td>\n",
       "      <td>2</td>\n",
       "      <td>1</td>\n",
       "      <td>3</td>\n",
       "      <td>5</td>\n",
       "      <td>5</td>\n",
       "      <td>151</td>\n",
       "      <td>1</td>\n",
       "      <td>3</td>\n",
       "      <td>0</td>\n",
       "      <td>-1</td>\n",
       "      <td>0</td>\n",
       "    </tr>\n",
       "    <tr>\n",
       "      <th>2</th>\n",
       "      <td>33</td>\n",
       "      <td>2</td>\n",
       "      <td>2</td>\n",
       "      <td>2</td>\n",
       "      <td>1</td>\n",
       "      <td>2</td>\n",
       "      <td>2</td>\n",
       "      <td>2</td>\n",
       "      <td>3</td>\n",
       "      <td>5</td>\n",
       "      <td>5</td>\n",
       "      <td>76</td>\n",
       "      <td>1</td>\n",
       "      <td>3</td>\n",
       "      <td>0</td>\n",
       "      <td>-1</td>\n",
       "      <td>0</td>\n",
       "    </tr>\n",
       "    <tr>\n",
       "      <th>3</th>\n",
       "      <td>47</td>\n",
       "      <td>1</td>\n",
       "      <td>2</td>\n",
       "      <td>4</td>\n",
       "      <td>1</td>\n",
       "      <td>1506</td>\n",
       "      <td>2</td>\n",
       "      <td>1</td>\n",
       "      <td>3</td>\n",
       "      <td>5</td>\n",
       "      <td>5</td>\n",
       "      <td>92</td>\n",
       "      <td>1</td>\n",
       "      <td>3</td>\n",
       "      <td>0</td>\n",
       "      <td>-1</td>\n",
       "      <td>0</td>\n",
       "    </tr>\n",
       "    <tr>\n",
       "      <th>4</th>\n",
       "      <td>33</td>\n",
       "      <td>11</td>\n",
       "      <td>3</td>\n",
       "      <td>4</td>\n",
       "      <td>1</td>\n",
       "      <td>1</td>\n",
       "      <td>1</td>\n",
       "      <td>1</td>\n",
       "      <td>3</td>\n",
       "      <td>5</td>\n",
       "      <td>5</td>\n",
       "      <td>198</td>\n",
       "      <td>1</td>\n",
       "      <td>3</td>\n",
       "      <td>0</td>\n",
       "      <td>-1</td>\n",
       "      <td>0</td>\n",
       "    </tr>\n",
       "    <tr>\n",
       "      <th>5</th>\n",
       "      <td>35</td>\n",
       "      <td>4</td>\n",
       "      <td>2</td>\n",
       "      <td>3</td>\n",
       "      <td>1</td>\n",
       "      <td>231</td>\n",
       "      <td>2</td>\n",
       "      <td>1</td>\n",
       "      <td>3</td>\n",
       "      <td>5</td>\n",
       "      <td>5</td>\n",
       "      <td>139</td>\n",
       "      <td>1</td>\n",
       "      <td>3</td>\n",
       "      <td>0</td>\n",
       "      <td>-1</td>\n",
       "      <td>0</td>\n",
       "    </tr>\n",
       "    <tr>\n",
       "      <th>6</th>\n",
       "      <td>28</td>\n",
       "      <td>4</td>\n",
       "      <td>3</td>\n",
       "      <td>3</td>\n",
       "      <td>1</td>\n",
       "      <td>447</td>\n",
       "      <td>2</td>\n",
       "      <td>2</td>\n",
       "      <td>3</td>\n",
       "      <td>5</td>\n",
       "      <td>5</td>\n",
       "      <td>217</td>\n",
       "      <td>1</td>\n",
       "      <td>3</td>\n",
       "      <td>0</td>\n",
       "      <td>-1</td>\n",
       "      <td>0</td>\n",
       "    </tr>\n",
       "    <tr>\n",
       "      <th>7</th>\n",
       "      <td>42</td>\n",
       "      <td>2</td>\n",
       "      <td>1</td>\n",
       "      <td>3</td>\n",
       "      <td>2</td>\n",
       "      <td>2</td>\n",
       "      <td>2</td>\n",
       "      <td>1</td>\n",
       "      <td>3</td>\n",
       "      <td>5</td>\n",
       "      <td>5</td>\n",
       "      <td>380</td>\n",
       "      <td>1</td>\n",
       "      <td>3</td>\n",
       "      <td>0</td>\n",
       "      <td>-1</td>\n",
       "      <td>0</td>\n",
       "    </tr>\n",
       "    <tr>\n",
       "      <th>8</th>\n",
       "      <td>58</td>\n",
       "      <td>5</td>\n",
       "      <td>2</td>\n",
       "      <td>1</td>\n",
       "      <td>1</td>\n",
       "      <td>121</td>\n",
       "      <td>2</td>\n",
       "      <td>1</td>\n",
       "      <td>3</td>\n",
       "      <td>5</td>\n",
       "      <td>5</td>\n",
       "      <td>50</td>\n",
       "      <td>1</td>\n",
       "      <td>3</td>\n",
       "      <td>0</td>\n",
       "      <td>-1</td>\n",
       "      <td>0</td>\n",
       "    </tr>\n",
       "    <tr>\n",
       "      <th>9</th>\n",
       "      <td>43</td>\n",
       "      <td>9</td>\n",
       "      <td>3</td>\n",
       "      <td>2</td>\n",
       "      <td>1</td>\n",
       "      <td>593</td>\n",
       "      <td>2</td>\n",
       "      <td>1</td>\n",
       "      <td>3</td>\n",
       "      <td>5</td>\n",
       "      <td>5</td>\n",
       "      <td>55</td>\n",
       "      <td>1</td>\n",
       "      <td>3</td>\n",
       "      <td>0</td>\n",
       "      <td>-1</td>\n",
       "      <td>0</td>\n",
       "    </tr>\n",
       "  </tbody>\n",
       "</table>\n",
       "</div>"
      ],
      "text/plain": [
       "   age  job  marital  education  default  balance  housing  loan  contact  \\\n",
       "0   58    4        2          3        1     2143        2     1        3   \n",
       "1   44    9        3          2        1       29        2     1        3   \n",
       "2   33    2        2          2        1        2        2     2        3   \n",
       "3   47    1        2          4        1     1506        2     1        3   \n",
       "4   33   11        3          4        1        1        1     1        3   \n",
       "5   35    4        2          3        1      231        2     1        3   \n",
       "6   28    4        3          3        1      447        2     2        3   \n",
       "7   42    2        1          3        2        2        2     1        3   \n",
       "8   58    5        2          1        1      121        2     1        3   \n",
       "9   43    9        3          2        1      593        2     1        3   \n",
       "\n",
       "   day  month  duration  campaign poutcome  Target  pdays  previous  \n",
       "0    5      5       261         1        3       0     -1         0  \n",
       "1    5      5       151         1        3       0     -1         0  \n",
       "2    5      5        76         1        3       0     -1         0  \n",
       "3    5      5        92         1        3       0     -1         0  \n",
       "4    5      5       198         1        3       0     -1         0  \n",
       "5    5      5       139         1        3       0     -1         0  \n",
       "6    5      5       217         1        3       0     -1         0  \n",
       "7    5      5       380         1        3       0     -1         0  \n",
       "8    5      5        50         1        3       0     -1         0  \n",
       "9    5      5        55         1        3       0     -1         0  "
      ]
     },
     "execution_count": 17,
     "metadata": {},
     "output_type": "execute_result"
    }
   ],
   "source": [
    "print (\"The dataSet without outliers now looks like this: \\n\")\n",
    "dataSet_withoutOutliers.head(10)"
   ]
  },
  {
   "cell_type": "code",
   "execution_count": 18,
   "metadata": {},
   "outputs": [
    {
     "name": "stdout",
     "output_type": "stream",
     "text": [
      "The data type now in the dataSet is: \n",
      "\n",
      "<class 'pandas.core.frame.DataFrame'>\n",
      "RangeIndex: 45211 entries, 0 to 45210\n",
      "Data columns (total 17 columns):\n",
      " #   Column     Non-Null Count  Dtype\n",
      "---  ------     --------------  -----\n",
      " 0   age        45211 non-null  int64\n",
      " 1   job        45211 non-null  int64\n",
      " 2   marital    45211 non-null  int64\n",
      " 3   education  45211 non-null  int64\n",
      " 4   default    45211 non-null  int64\n",
      " 5   balance    45211 non-null  int64\n",
      " 6   housing    45211 non-null  int64\n",
      " 7   loan       45211 non-null  int64\n",
      " 8   contact    45211 non-null  int64\n",
      " 9   day        45211 non-null  int64\n",
      " 10  month      45211 non-null  int64\n",
      " 11  duration   45211 non-null  int64\n",
      " 12  campaign   45211 non-null  int64\n",
      " 13  pdays      45211 non-null  int64\n",
      " 14  previous   45211 non-null  int64\n",
      " 15  poutcome   45211 non-null  int64\n",
      " 16  Target     45211 non-null  int64\n",
      "dtypes: int64(17)\n",
      "memory usage: 5.9 MB\n"
     ]
    }
   ],
   "source": [
    "print(\"The data type now in the dataSet is: \\n\")\n",
    "dataSet.info()"
   ]
  },
  {
   "cell_type": "code",
   "execution_count": 19,
   "metadata": {},
   "outputs": [],
   "source": [
    "for attribute in dataSet:\n",
    "        if dataSet[attribute].dtype =='object':\n",
    "            dataSet[attribute] = pd.to_numeric(dataSet[attribute])"
   ]
  },
  {
   "cell_type": "code",
   "execution_count": 20,
   "metadata": {},
   "outputs": [
    {
     "data": {
      "text/html": [
       "<div>\n",
       "<style scoped>\n",
       "    .dataframe tbody tr th:only-of-type {\n",
       "        vertical-align: middle;\n",
       "    }\n",
       "\n",
       "    .dataframe tbody tr th {\n",
       "        vertical-align: top;\n",
       "    }\n",
       "\n",
       "    .dataframe thead th {\n",
       "        text-align: right;\n",
       "    }\n",
       "</style>\n",
       "<table border=\"1\" class=\"dataframe\">\n",
       "  <thead>\n",
       "    <tr style=\"text-align: right;\">\n",
       "      <th></th>\n",
       "      <th>age</th>\n",
       "      <th>job</th>\n",
       "      <th>marital</th>\n",
       "      <th>education</th>\n",
       "      <th>default</th>\n",
       "      <th>balance</th>\n",
       "      <th>housing</th>\n",
       "      <th>loan</th>\n",
       "      <th>contact</th>\n",
       "      <th>day</th>\n",
       "      <th>month</th>\n",
       "      <th>duration</th>\n",
       "      <th>campaign</th>\n",
       "      <th>pdays</th>\n",
       "      <th>previous</th>\n",
       "      <th>poutcome</th>\n",
       "      <th>Target</th>\n",
       "    </tr>\n",
       "  </thead>\n",
       "  <tbody>\n",
       "    <tr>\n",
       "      <th>age</th>\n",
       "      <td>1.000000</td>\n",
       "      <td>-0.021868</td>\n",
       "      <td>-0.403240</td>\n",
       "      <td>-0.106807</td>\n",
       "      <td>-0.017879</td>\n",
       "      <td>0.097783</td>\n",
       "      <td>-0.185513</td>\n",
       "      <td>-0.015655</td>\n",
       "      <td>0.010771</td>\n",
       "      <td>-0.009120</td>\n",
       "      <td>0.092903</td>\n",
       "      <td>-0.004648</td>\n",
       "      <td>0.004760</td>\n",
       "      <td>-0.023758</td>\n",
       "      <td>0.001288</td>\n",
       "      <td>0.007367</td>\n",
       "      <td>0.025155</td>\n",
       "    </tr>\n",
       "    <tr>\n",
       "      <th>job</th>\n",
       "      <td>-0.021868</td>\n",
       "      <td>1.000000</td>\n",
       "      <td>0.062045</td>\n",
       "      <td>0.166707</td>\n",
       "      <td>-0.006853</td>\n",
       "      <td>0.018232</td>\n",
       "      <td>-0.125363</td>\n",
       "      <td>-0.033004</td>\n",
       "      <td>-0.082276</td>\n",
       "      <td>0.022856</td>\n",
       "      <td>0.043142</td>\n",
       "      <td>0.004744</td>\n",
       "      <td>0.006839</td>\n",
       "      <td>-0.024455</td>\n",
       "      <td>-0.000911</td>\n",
       "      <td>0.011010</td>\n",
       "      <td>0.040438</td>\n",
       "    </tr>\n",
       "    <tr>\n",
       "      <th>marital</th>\n",
       "      <td>-0.403240</td>\n",
       "      <td>0.062045</td>\n",
       "      <td>1.000000</td>\n",
       "      <td>0.108576</td>\n",
       "      <td>-0.007023</td>\n",
       "      <td>0.002122</td>\n",
       "      <td>-0.016096</td>\n",
       "      <td>-0.046893</td>\n",
       "      <td>-0.037537</td>\n",
       "      <td>-0.005261</td>\n",
       "      <td>-0.050938</td>\n",
       "      <td>0.011852</td>\n",
       "      <td>-0.008994</td>\n",
       "      <td>0.019172</td>\n",
       "      <td>0.014973</td>\n",
       "      <td>-0.016850</td>\n",
       "      <td>0.045588</td>\n",
       "    </tr>\n",
       "    <tr>\n",
       "      <th>education</th>\n",
       "      <td>-0.106807</td>\n",
       "      <td>0.166707</td>\n",
       "      <td>0.108576</td>\n",
       "      <td>1.000000</td>\n",
       "      <td>-0.010718</td>\n",
       "      <td>0.064514</td>\n",
       "      <td>-0.090790</td>\n",
       "      <td>-0.048574</td>\n",
       "      <td>-0.107490</td>\n",
       "      <td>0.022671</td>\n",
       "      <td>0.054729</td>\n",
       "      <td>0.001935</td>\n",
       "      <td>0.006255</td>\n",
       "      <td>0.000052</td>\n",
       "      <td>0.017570</td>\n",
       "      <td>-0.019361</td>\n",
       "      <td>0.066241</td>\n",
       "    </tr>\n",
       "    <tr>\n",
       "      <th>default</th>\n",
       "      <td>-0.017879</td>\n",
       "      <td>-0.006853</td>\n",
       "      <td>-0.007023</td>\n",
       "      <td>-0.010718</td>\n",
       "      <td>1.000000</td>\n",
       "      <td>-0.066745</td>\n",
       "      <td>-0.006025</td>\n",
       "      <td>0.077234</td>\n",
       "      <td>0.017063</td>\n",
       "      <td>0.009424</td>\n",
       "      <td>0.014989</td>\n",
       "      <td>-0.010021</td>\n",
       "      <td>0.016822</td>\n",
       "      <td>-0.029979</td>\n",
       "      <td>-0.018329</td>\n",
       "      <td>0.034898</td>\n",
       "      <td>-0.022419</td>\n",
       "    </tr>\n",
       "    <tr>\n",
       "      <th>balance</th>\n",
       "      <td>0.097783</td>\n",
       "      <td>0.018232</td>\n",
       "      <td>0.002122</td>\n",
       "      <td>0.064514</td>\n",
       "      <td>-0.066745</td>\n",
       "      <td>1.000000</td>\n",
       "      <td>-0.068768</td>\n",
       "      <td>-0.084350</td>\n",
       "      <td>-0.030900</td>\n",
       "      <td>0.004503</td>\n",
       "      <td>0.094605</td>\n",
       "      <td>0.021560</td>\n",
       "      <td>-0.014578</td>\n",
       "      <td>0.003435</td>\n",
       "      <td>0.016674</td>\n",
       "      <td>-0.020967</td>\n",
       "      <td>0.052838</td>\n",
       "    </tr>\n",
       "    <tr>\n",
       "      <th>housing</th>\n",
       "      <td>-0.185513</td>\n",
       "      <td>-0.125363</td>\n",
       "      <td>-0.016096</td>\n",
       "      <td>-0.090790</td>\n",
       "      <td>-0.006025</td>\n",
       "      <td>-0.068768</td>\n",
       "      <td>1.000000</td>\n",
       "      <td>0.041323</td>\n",
       "      <td>0.196548</td>\n",
       "      <td>-0.027982</td>\n",
       "      <td>-0.173887</td>\n",
       "      <td>0.005075</td>\n",
       "      <td>-0.023599</td>\n",
       "      <td>0.124178</td>\n",
       "      <td>0.037076</td>\n",
       "      <td>-0.099971</td>\n",
       "      <td>-0.139173</td>\n",
       "    </tr>\n",
       "    <tr>\n",
       "      <th>loan</th>\n",
       "      <td>-0.015655</td>\n",
       "      <td>-0.033004</td>\n",
       "      <td>-0.046893</td>\n",
       "      <td>-0.048574</td>\n",
       "      <td>0.077234</td>\n",
       "      <td>-0.084350</td>\n",
       "      <td>0.041323</td>\n",
       "      <td>1.000000</td>\n",
       "      <td>-0.009726</td>\n",
       "      <td>0.011370</td>\n",
       "      <td>0.021638</td>\n",
       "      <td>-0.012412</td>\n",
       "      <td>0.009980</td>\n",
       "      <td>-0.022754</td>\n",
       "      <td>-0.011043</td>\n",
       "      <td>0.015458</td>\n",
       "      <td>-0.068185</td>\n",
       "    </tr>\n",
       "    <tr>\n",
       "      <th>contact</th>\n",
       "      <td>0.010771</td>\n",
       "      <td>-0.082276</td>\n",
       "      <td>-0.037537</td>\n",
       "      <td>-0.107490</td>\n",
       "      <td>0.017063</td>\n",
       "      <td>-0.030900</td>\n",
       "      <td>0.196548</td>\n",
       "      <td>-0.009726</td>\n",
       "      <td>1.000000</td>\n",
       "      <td>-0.030254</td>\n",
       "      <td>-0.178172</td>\n",
       "      <td>-0.018829</td>\n",
       "      <td>0.014788</td>\n",
       "      <td>-0.247618</td>\n",
       "      <td>-0.151190</td>\n",
       "      <td>0.275455</td>\n",
       "      <td>-0.150491</td>\n",
       "    </tr>\n",
       "    <tr>\n",
       "      <th>day</th>\n",
       "      <td>-0.009120</td>\n",
       "      <td>0.022856</td>\n",
       "      <td>-0.005261</td>\n",
       "      <td>0.022671</td>\n",
       "      <td>0.009424</td>\n",
       "      <td>0.004503</td>\n",
       "      <td>-0.027982</td>\n",
       "      <td>0.011370</td>\n",
       "      <td>-0.030254</td>\n",
       "      <td>1.000000</td>\n",
       "      <td>0.101989</td>\n",
       "      <td>-0.030206</td>\n",
       "      <td>0.162490</td>\n",
       "      <td>-0.093044</td>\n",
       "      <td>-0.051710</td>\n",
       "      <td>0.083460</td>\n",
       "      <td>-0.028348</td>\n",
       "    </tr>\n",
       "    <tr>\n",
       "      <th>month</th>\n",
       "      <td>0.092903</td>\n",
       "      <td>0.043142</td>\n",
       "      <td>-0.050938</td>\n",
       "      <td>0.054729</td>\n",
       "      <td>0.014989</td>\n",
       "      <td>0.094605</td>\n",
       "      <td>-0.173887</td>\n",
       "      <td>0.021638</td>\n",
       "      <td>-0.178172</td>\n",
       "      <td>0.101989</td>\n",
       "      <td>1.000000</td>\n",
       "      <td>-0.011866</td>\n",
       "      <td>0.054868</td>\n",
       "      <td>-0.108940</td>\n",
       "      <td>-0.035600</td>\n",
       "      <td>0.071666</td>\n",
       "      <td>0.018717</td>\n",
       "    </tr>\n",
       "    <tr>\n",
       "      <th>duration</th>\n",
       "      <td>-0.004648</td>\n",
       "      <td>0.004744</td>\n",
       "      <td>0.011852</td>\n",
       "      <td>0.001935</td>\n",
       "      <td>-0.010021</td>\n",
       "      <td>0.021560</td>\n",
       "      <td>0.005075</td>\n",
       "      <td>-0.012412</td>\n",
       "      <td>-0.018829</td>\n",
       "      <td>-0.030206</td>\n",
       "      <td>-0.011866</td>\n",
       "      <td>1.000000</td>\n",
       "      <td>-0.084570</td>\n",
       "      <td>-0.001565</td>\n",
       "      <td>0.001203</td>\n",
       "      <td>0.010925</td>\n",
       "      <td>0.394521</td>\n",
       "    </tr>\n",
       "    <tr>\n",
       "      <th>campaign</th>\n",
       "      <td>0.004760</td>\n",
       "      <td>0.006839</td>\n",
       "      <td>-0.008994</td>\n",
       "      <td>0.006255</td>\n",
       "      <td>0.016822</td>\n",
       "      <td>-0.014578</td>\n",
       "      <td>-0.023599</td>\n",
       "      <td>0.009980</td>\n",
       "      <td>0.014788</td>\n",
       "      <td>0.162490</td>\n",
       "      <td>0.054868</td>\n",
       "      <td>-0.084570</td>\n",
       "      <td>1.000000</td>\n",
       "      <td>-0.088628</td>\n",
       "      <td>-0.032855</td>\n",
       "      <td>0.101588</td>\n",
       "      <td>-0.073172</td>\n",
       "    </tr>\n",
       "    <tr>\n",
       "      <th>pdays</th>\n",
       "      <td>-0.023758</td>\n",
       "      <td>-0.024455</td>\n",
       "      <td>0.019172</td>\n",
       "      <td>0.000052</td>\n",
       "      <td>-0.029979</td>\n",
       "      <td>0.003435</td>\n",
       "      <td>0.124178</td>\n",
       "      <td>-0.022754</td>\n",
       "      <td>-0.247618</td>\n",
       "      <td>-0.093044</td>\n",
       "      <td>-0.108940</td>\n",
       "      <td>-0.001565</td>\n",
       "      <td>-0.088628</td>\n",
       "      <td>1.000000</td>\n",
       "      <td>0.454820</td>\n",
       "      <td>-0.858362</td>\n",
       "      <td>0.103621</td>\n",
       "    </tr>\n",
       "    <tr>\n",
       "      <th>previous</th>\n",
       "      <td>0.001288</td>\n",
       "      <td>-0.000911</td>\n",
       "      <td>0.014973</td>\n",
       "      <td>0.017570</td>\n",
       "      <td>-0.018329</td>\n",
       "      <td>0.016674</td>\n",
       "      <td>0.037076</td>\n",
       "      <td>-0.011043</td>\n",
       "      <td>-0.151190</td>\n",
       "      <td>-0.051710</td>\n",
       "      <td>-0.035600</td>\n",
       "      <td>0.001203</td>\n",
       "      <td>-0.032855</td>\n",
       "      <td>0.454820</td>\n",
       "      <td>1.000000</td>\n",
       "      <td>-0.489752</td>\n",
       "      <td>0.093236</td>\n",
       "    </tr>\n",
       "    <tr>\n",
       "      <th>poutcome</th>\n",
       "      <td>0.007367</td>\n",
       "      <td>0.011010</td>\n",
       "      <td>-0.016850</td>\n",
       "      <td>-0.019361</td>\n",
       "      <td>0.034898</td>\n",
       "      <td>-0.020967</td>\n",
       "      <td>-0.099971</td>\n",
       "      <td>0.015458</td>\n",
       "      <td>0.275455</td>\n",
       "      <td>0.083460</td>\n",
       "      <td>0.071666</td>\n",
       "      <td>0.010925</td>\n",
       "      <td>0.101588</td>\n",
       "      <td>-0.858362</td>\n",
       "      <td>-0.489752</td>\n",
       "      <td>1.000000</td>\n",
       "      <td>-0.077840</td>\n",
       "    </tr>\n",
       "    <tr>\n",
       "      <th>Target</th>\n",
       "      <td>0.025155</td>\n",
       "      <td>0.040438</td>\n",
       "      <td>0.045588</td>\n",
       "      <td>0.066241</td>\n",
       "      <td>-0.022419</td>\n",
       "      <td>0.052838</td>\n",
       "      <td>-0.139173</td>\n",
       "      <td>-0.068185</td>\n",
       "      <td>-0.150491</td>\n",
       "      <td>-0.028348</td>\n",
       "      <td>0.018717</td>\n",
       "      <td>0.394521</td>\n",
       "      <td>-0.073172</td>\n",
       "      <td>0.103621</td>\n",
       "      <td>0.093236</td>\n",
       "      <td>-0.077840</td>\n",
       "      <td>1.000000</td>\n",
       "    </tr>\n",
       "  </tbody>\n",
       "</table>\n",
       "</div>"
      ],
      "text/plain": [
       "                age       job   marital  education   default   balance  \\\n",
       "age        1.000000 -0.021868 -0.403240  -0.106807 -0.017879  0.097783   \n",
       "job       -0.021868  1.000000  0.062045   0.166707 -0.006853  0.018232   \n",
       "marital   -0.403240  0.062045  1.000000   0.108576 -0.007023  0.002122   \n",
       "education -0.106807  0.166707  0.108576   1.000000 -0.010718  0.064514   \n",
       "default   -0.017879 -0.006853 -0.007023  -0.010718  1.000000 -0.066745   \n",
       "balance    0.097783  0.018232  0.002122   0.064514 -0.066745  1.000000   \n",
       "housing   -0.185513 -0.125363 -0.016096  -0.090790 -0.006025 -0.068768   \n",
       "loan      -0.015655 -0.033004 -0.046893  -0.048574  0.077234 -0.084350   \n",
       "contact    0.010771 -0.082276 -0.037537  -0.107490  0.017063 -0.030900   \n",
       "day       -0.009120  0.022856 -0.005261   0.022671  0.009424  0.004503   \n",
       "month      0.092903  0.043142 -0.050938   0.054729  0.014989  0.094605   \n",
       "duration  -0.004648  0.004744  0.011852   0.001935 -0.010021  0.021560   \n",
       "campaign   0.004760  0.006839 -0.008994   0.006255  0.016822 -0.014578   \n",
       "pdays     -0.023758 -0.024455  0.019172   0.000052 -0.029979  0.003435   \n",
       "previous   0.001288 -0.000911  0.014973   0.017570 -0.018329  0.016674   \n",
       "poutcome   0.007367  0.011010 -0.016850  -0.019361  0.034898 -0.020967   \n",
       "Target     0.025155  0.040438  0.045588   0.066241 -0.022419  0.052838   \n",
       "\n",
       "            housing      loan   contact       day     month  duration  \\\n",
       "age       -0.185513 -0.015655  0.010771 -0.009120  0.092903 -0.004648   \n",
       "job       -0.125363 -0.033004 -0.082276  0.022856  0.043142  0.004744   \n",
       "marital   -0.016096 -0.046893 -0.037537 -0.005261 -0.050938  0.011852   \n",
       "education -0.090790 -0.048574 -0.107490  0.022671  0.054729  0.001935   \n",
       "default   -0.006025  0.077234  0.017063  0.009424  0.014989 -0.010021   \n",
       "balance   -0.068768 -0.084350 -0.030900  0.004503  0.094605  0.021560   \n",
       "housing    1.000000  0.041323  0.196548 -0.027982 -0.173887  0.005075   \n",
       "loan       0.041323  1.000000 -0.009726  0.011370  0.021638 -0.012412   \n",
       "contact    0.196548 -0.009726  1.000000 -0.030254 -0.178172 -0.018829   \n",
       "day       -0.027982  0.011370 -0.030254  1.000000  0.101989 -0.030206   \n",
       "month     -0.173887  0.021638 -0.178172  0.101989  1.000000 -0.011866   \n",
       "duration   0.005075 -0.012412 -0.018829 -0.030206 -0.011866  1.000000   \n",
       "campaign  -0.023599  0.009980  0.014788  0.162490  0.054868 -0.084570   \n",
       "pdays      0.124178 -0.022754 -0.247618 -0.093044 -0.108940 -0.001565   \n",
       "previous   0.037076 -0.011043 -0.151190 -0.051710 -0.035600  0.001203   \n",
       "poutcome  -0.099971  0.015458  0.275455  0.083460  0.071666  0.010925   \n",
       "Target    -0.139173 -0.068185 -0.150491 -0.028348  0.018717  0.394521   \n",
       "\n",
       "           campaign     pdays  previous  poutcome    Target  \n",
       "age        0.004760 -0.023758  0.001288  0.007367  0.025155  \n",
       "job        0.006839 -0.024455 -0.000911  0.011010  0.040438  \n",
       "marital   -0.008994  0.019172  0.014973 -0.016850  0.045588  \n",
       "education  0.006255  0.000052  0.017570 -0.019361  0.066241  \n",
       "default    0.016822 -0.029979 -0.018329  0.034898 -0.022419  \n",
       "balance   -0.014578  0.003435  0.016674 -0.020967  0.052838  \n",
       "housing   -0.023599  0.124178  0.037076 -0.099971 -0.139173  \n",
       "loan       0.009980 -0.022754 -0.011043  0.015458 -0.068185  \n",
       "contact    0.014788 -0.247618 -0.151190  0.275455 -0.150491  \n",
       "day        0.162490 -0.093044 -0.051710  0.083460 -0.028348  \n",
       "month      0.054868 -0.108940 -0.035600  0.071666  0.018717  \n",
       "duration  -0.084570 -0.001565  0.001203  0.010925  0.394521  \n",
       "campaign   1.000000 -0.088628 -0.032855  0.101588 -0.073172  \n",
       "pdays     -0.088628  1.000000  0.454820 -0.858362  0.103621  \n",
       "previous  -0.032855  0.454820  1.000000 -0.489752  0.093236  \n",
       "poutcome   0.101588 -0.858362 -0.489752  1.000000 -0.077840  \n",
       "Target    -0.073172  0.103621  0.093236 -0.077840  1.000000  "
      ]
     },
     "execution_count": 20,
     "metadata": {},
     "output_type": "execute_result"
    }
   ],
   "source": [
    "#Plotting the correlation of the dataSet\n",
    "dataSet.corr()"
   ]
  },
  {
   "cell_type": "code",
   "execution_count": 21,
   "metadata": {},
   "outputs": [
    {
     "data": {
      "image/png": "[encoded data removed]",
      "text/plain": [
       "<Figure size 1080x1080 with 1 Axes>"
      ]
     },
     "metadata": {
      "needs_background": "light"
     },
     "output_type": "display_data"
    }
   ],
   "source": [
    "#Plotting a heat map of the above correlation:\n",
    "def plot_corr(data, size = 15):\n",
    "    corr = data.corr()\n",
    "    fig, ax = mp.subplots(figsize = (size, size))\n",
    "    ax.matshow(corr)\n",
    "    mp.xticks(range(len(corr.columns)), corr.columns)\n",
    "    mp.yticks(range(len(corr.columns)), corr.columns)\n",
    "    \n",
    "plot_corr(dataSet)"
   ]
  },
  {
   "cell_type": "markdown",
   "metadata": {},
   "source": [
    "**=======================================================================================================================**\n",
    "**=======================================================================================================================**"
   ]
  },
  {
   "cell_type": "markdown",
   "metadata": {},
   "source": [
    "From the above correlations map, to train the model we'll drop the attribute age, default, day and month as they have very less correlation with target column.|\n",
    "Now splitting the above dataSet to train KNN and Naive Bayes model that we'll use further in the ensemble technique."
   ]
  },
  {
   "cell_type": "code",
   "execution_count": 22,
   "metadata": {},
   "outputs": [],
   "source": [
    "X_Values = dataSet.drop(['age','default','day','month','Target'],axis=1)\n",
    "Y_Values = dataSet['Target']\n",
    "\n",
    "x_train,x_test,y_train,y_test = train_test_split(X_Values,Y_Values,test_size = 0.3, random_state = 1)"
   ]
  },
  {
   "cell_type": "code",
   "execution_count": 23,
   "metadata": {},
   "outputs": [
    {
     "data": {
      "text/plain": [
       "0.8903715718077263"
      ]
     },
     "execution_count": 23,
     "metadata": {},
     "output_type": "execute_result"
    }
   ],
   "source": [
    "#Training a Logistic Model with the above data:\n",
    "\n",
    "logisticReg = LogisticRegression(solver = 'liblinear')\n",
    "logisticReg.fit(x_train,y_train)\n",
    "pred = logisticReg.predict(x_test)\n",
    "logisticReg.score(x_test,y_test)"
   ]
  },
  {
   "cell_type": "code",
   "execution_count": 24,
   "metadata": {},
   "outputs": [
    {
     "name": "stdout",
     "output_type": "stream",
     "text": [
      "The classificaiton report of the model is: \n",
      "              precision    recall  f1-score   support\n",
      "\n",
      "           1       0.56      0.21      0.30      1551\n",
      "           0       0.91      0.98      0.94     12013\n",
      "\n",
      "    accuracy                           0.89     13564\n",
      "   macro avg       0.73      0.59      0.62     13564\n",
      "weighted avg       0.87      0.89      0.87     13564\n",
      "\n"
     ]
    }
   ],
   "source": [
    "classification_report_of_model(y_test, pred)"
   ]
  },
  {
   "cell_type": "code",
   "execution_count": 25,
   "metadata": {},
   "outputs": [
    {
     "data": {
      "text/plain": [
       "0.8801975818342672"
      ]
     },
     "execution_count": 25,
     "metadata": {},
     "output_type": "execute_result"
    }
   ],
   "source": [
    "#Training a KNN model with the above data:\n",
    "\n",
    "KNNmodel = KNeighborsClassifier(n_neighbors=5, weights='distance')\n",
    "KNNmodel.fit(x_train,y_train)\n",
    "pred = KNNmodel.predict(x_test)\n",
    "KNNmodel.score(x_test,y_test)"
   ]
  },
  {
   "cell_type": "code",
   "execution_count": 26,
   "metadata": {},
   "outputs": [
    {
     "name": "stdout",
     "output_type": "stream",
     "text": [
      "The classificaiton report of the model is: \n",
      "              precision    recall  f1-score   support\n",
      "\n",
      "           1       0.46      0.30      0.36      1551\n",
      "           0       0.91      0.96      0.93     12013\n",
      "\n",
      "    accuracy                           0.88     13564\n",
      "   macro avg       0.69      0.63      0.65     13564\n",
      "weighted avg       0.86      0.88      0.87     13564\n",
      "\n"
     ]
    }
   ],
   "source": [
    "classification_report_of_model(y_test, pred)"
   ]
  },
  {
   "cell_type": "code",
   "execution_count": 27,
   "metadata": {},
   "outputs": [
    {
     "data": {
      "text/plain": [
       "0.846652904747862"
      ]
     },
     "execution_count": 27,
     "metadata": {},
     "output_type": "execute_result"
    }
   ],
   "source": [
    "#Training a Naive Bayes model with the above data:\n",
    "\n",
    "naiveBmodel = GaussianNB()\n",
    "naiveBmodel.fit(x_train,y_train)\n",
    "pred = naiveBmodel.predict(x_test)\n",
    "naiveBmodel.score(x_test,y_test)"
   ]
  },
  {
   "cell_type": "code",
   "execution_count": 28,
   "metadata": {},
   "outputs": [
    {
     "name": "stdout",
     "output_type": "stream",
     "text": [
      "The classificaiton report of the model is: \n",
      "              precision    recall  f1-score   support\n",
      "\n",
      "           1       0.35      0.41      0.38      1551\n",
      "           0       0.92      0.90      0.91     12013\n",
      "\n",
      "    accuracy                           0.85     13564\n",
      "   macro avg       0.64      0.65      0.64     13564\n",
      "weighted avg       0.86      0.85      0.85     13564\n",
      "\n"
     ]
    }
   ],
   "source": [
    "classification_report_of_model(y_test, pred)"
   ]
  },
  {
   "cell_type": "markdown",
   "metadata": {},
   "source": [
    "Now creating a decision tree from the above dataSet"
   ]
  },
  {
   "cell_type": "code",
   "execution_count": 29,
   "metadata": {},
   "outputs": [
    {
     "data": {
      "text/plain": [
       "0.8574166912415216"
      ]
     },
     "execution_count": 29,
     "metadata": {},
     "output_type": "execute_result"
    }
   ],
   "source": [
    "dTree = DecisionTreeClassifier(criterion='gini', random_state=1)\n",
    "dTree.fit(x_train,y_train)\n",
    "dTree.score(x_test, y_test)"
   ]
  },
  {
   "cell_type": "code",
   "execution_count": 30,
   "metadata": {},
   "outputs": [
    {
     "data": {
      "text/plain": [
       "0.9024624004718372"
      ]
     },
     "execution_count": 30,
     "metadata": {},
     "output_type": "execute_result"
    }
   ],
   "source": [
    "#Creating a model with max depth of 6 that reduces the overfitting of the model.\n",
    "dTree = DecisionTreeClassifier(criterion='gini',max_depth=6, random_state=1)\n",
    "dTree.fit(x_train,y_train)\n",
    "pred = dTree.predict(x_test)\n",
    "dTree.score(x_test, y_test)"
   ]
  },
  {
   "cell_type": "code",
   "execution_count": 31,
   "metadata": {},
   "outputs": [
    {
     "name": "stdout",
     "output_type": "stream",
     "text": [
      "The classificaiton report of the model is: \n",
      "              precision    recall  f1-score   support\n",
      "\n",
      "           1       0.63      0.36      0.46      1551\n",
      "           0       0.92      0.97      0.95     12013\n",
      "\n",
      "    accuracy                           0.90     13564\n",
      "   macro avg       0.78      0.67      0.70     13564\n",
      "weighted avg       0.89      0.90      0.89     13564\n",
      "\n"
     ]
    }
   ],
   "source": [
    "classification_report_of_model(y_test, pred)"
   ]
  },
  {
   "cell_type": "code",
   "execution_count": 32,
   "metadata": {},
   "outputs": [
    {
     "data": {
      "image/png": "[encoded data removed]",
      "text/plain": [
       "<Figure size 432x288 with 2 Axes>"
      ]
     },
     "metadata": {
      "needs_background": "light"
     },
     "output_type": "display_data"
    }
   ],
   "source": [
    "create_confusionMat(y_test, pred)"
   ]
  },
  {
   "cell_type": "markdown",
   "metadata": {},
   "source": [
    "From the above models, we can conclude that for the dataSet, the best suitable models with highest f1 score is Logistic Regression model and the Decision Tree. Hence we'll consider these models for futher processes."
   ]
  },
  {
   "cell_type": "markdown",
   "metadata": {},
   "source": [
    "We will be creating 2 Bagging models: \n",
    "1. With base interpreter as Logistic Regression Model\n",
    "2. With base interpreter as dTree."
   ]
  },
  {
   "cell_type": "code",
   "execution_count": 33,
   "metadata": {},
   "outputs": [
    {
     "data": {
      "text/plain": [
       "0.8908139191978768"
      ]
     },
     "execution_count": 33,
     "metadata": {},
     "output_type": "execute_result"
    }
   ],
   "source": [
    "#Bagging with Logistic Regression Model\n",
    "logRegBag = BaggingClassifier(base_estimator=logisticReg, n_estimators=50, random_state=1)\n",
    "logRegBag.fit(x_train,y_train)\n",
    "pred = logRegBag.predict(x_test)\n",
    "logRegBag.score(x_test, y_test)"
   ]
  },
  {
   "cell_type": "code",
   "execution_count": 34,
   "metadata": {},
   "outputs": [
    {
     "data": {
      "image/png": "[encoded data removed]",
      "text/plain": [
       "<Figure size 432x288 with 2 Axes>"
      ]
     },
     "metadata": {
      "needs_background": "light"
     },
     "output_type": "display_data"
    }
   ],
   "source": [
    "create_confusionMat(y_test,pred)"
   ]
  },
  {
   "cell_type": "code",
   "execution_count": 35,
   "metadata": {},
   "outputs": [
    {
     "name": "stdout",
     "output_type": "stream",
     "text": [
      "The classificaiton report of the model is: \n",
      "              precision    recall  f1-score   support\n",
      "\n",
      "           1       0.56      0.21      0.30      1551\n",
      "           0       0.91      0.98      0.94     12013\n",
      "\n",
      "    accuracy                           0.89     13564\n",
      "   macro avg       0.73      0.59      0.62     13564\n",
      "weighted avg       0.87      0.89      0.87     13564\n",
      "\n"
     ]
    }
   ],
   "source": [
    "classification_report_of_model(y_test, pred)"
   ]
  },
  {
   "cell_type": "code",
   "execution_count": 36,
   "metadata": {},
   "outputs": [
    {
     "name": "stdout",
     "output_type": "stream",
     "text": [
      "The area under the curve is: 0.8688909602175549\n"
     ]
    },
    {
     "data": {
      "text/plain": [
       "0.8688909602175549"
      ]
     },
     "execution_count": 36,
     "metadata": {},
     "output_type": "execute_result"
    }
   ],
   "source": [
    "cal_AUC(logRegBag)"
   ]
  },
  {
   "cell_type": "markdown",
   "metadata": {},
   "source": [
    "**=======================================================================================================================**"
   ]
  },
  {
   "cell_type": "code",
   "execution_count": 37,
   "metadata": {},
   "outputs": [
    {
     "data": {
      "text/plain": [
       "0.9024624004718372"
      ]
     },
     "execution_count": 37,
     "metadata": {},
     "output_type": "execute_result"
    }
   ],
   "source": [
    "#Bagging with Decision Tree\n",
    "dTreeBag = BaggingClassifier(base_estimator=dTree, n_estimators=50, random_state=1)\n",
    "dTreeBag.fit(x_train,y_train)\n",
    "pred = dTree.predict(x_test)\n",
    "dTree.score(x_test, y_test)"
   ]
  },
  {
   "cell_type": "code",
   "execution_count": 38,
   "metadata": {},
   "outputs": [
    {
     "data": {
      "image/png": "[encoded data removed]",
      "text/plain": [
       "<Figure size 432x288 with 2 Axes>"
      ]
     },
     "metadata": {
      "needs_background": "light"
     },
     "output_type": "display_data"
    }
   ],
   "source": [
    "create_confusionMat(y_test,pred)"
   ]
  },
  {
   "cell_type": "code",
   "execution_count": 39,
   "metadata": {},
   "outputs": [
    {
     "name": "stdout",
     "output_type": "stream",
     "text": [
      "The classificaiton report of the model is: \n",
      "              precision    recall  f1-score   support\n",
      "\n",
      "           1       0.63      0.36      0.46      1551\n",
      "           0       0.92      0.97      0.95     12013\n",
      "\n",
      "    accuracy                           0.90     13564\n",
      "   macro avg       0.78      0.67      0.70     13564\n",
      "weighted avg       0.89      0.90      0.89     13564\n",
      "\n"
     ]
    }
   ],
   "source": [
    "classification_report_of_model(y_test, pred)"
   ]
  },
  {
   "cell_type": "code",
   "execution_count": 40,
   "metadata": {},
   "outputs": [
    {
     "name": "stdout",
     "output_type": "stream",
     "text": [
      "The area under the curve is: 0.8916358771657376\n"
     ]
    },
    {
     "data": {
      "text/plain": [
       "0.8916358771657376"
      ]
     },
     "execution_count": 40,
     "metadata": {},
     "output_type": "execute_result"
    }
   ],
   "source": [
    "cal_AUC(dTreeBag)"
   ]
  },
  {
   "cell_type": "markdown",
   "metadata": {},
   "source": [
    "Hence, from the above Bagging models the **Decision Tree bagging model** is to be considered as it has highest F1 Score and a score of 90.24 %"
   ]
  },
  {
   "cell_type": "markdown",
   "metadata": {},
   "source": [
    "**========================================================================================================================**"
   ]
  },
  {
   "cell_type": "markdown",
   "metadata": {},
   "source": [
    "Now, creating Boosting models that is:\n",
    "1. Adaptive Boosting Model\n",
    "2. Gradient Boosting Model"
   ]
  },
  {
   "cell_type": "code",
   "execution_count": 41,
   "metadata": {},
   "outputs": [
    {
     "data": {
      "text/plain": [
       "0.8934680035387791"
      ]
     },
     "execution_count": 41,
     "metadata": {},
     "output_type": "execute_result"
    }
   ],
   "source": [
    "#Adaptive Boosting model of the given dataSet:\n",
    "adaBoostModel = AdaBoostClassifier(n_estimators=20, random_state=1)\n",
    "adaBoostModel.fit(x_train, y_train)\n",
    "pred = adaBoostModel.predict(x_test)\n",
    "adaBoostModel.score(x_test, y_test)"
   ]
  },
  {
   "cell_type": "code",
   "execution_count": 42,
   "metadata": {},
   "outputs": [
    {
     "name": "stdout",
     "output_type": "stream",
     "text": [
      "The classificaiton report of the model is: \n",
      "              precision    recall  f1-score   support\n",
      "\n",
      "           1       0.56      0.32      0.41      1551\n",
      "           0       0.92      0.97      0.94     12013\n",
      "\n",
      "    accuracy                           0.89     13564\n",
      "   macro avg       0.74      0.64      0.67     13564\n",
      "weighted avg       0.88      0.89      0.88     13564\n",
      "\n"
     ]
    }
   ],
   "source": [
    "classification_report_of_model(y_test, pred)"
   ]
  },
  {
   "cell_type": "code",
   "execution_count": 43,
   "metadata": {},
   "outputs": [
    {
     "data": {
      "image/png": "[encoded data removed]",
      "text/plain": [
       "<Figure size 432x288 with 2 Axes>"
      ]
     },
     "metadata": {
      "needs_background": "light"
     },
     "output_type": "display_data"
    }
   ],
   "source": [
    "create_confusionMat(y_test, pred)"
   ]
  },
  {
   "cell_type": "code",
   "execution_count": 44,
   "metadata": {},
   "outputs": [
    {
     "name": "stdout",
     "output_type": "stream",
     "text": [
      "The area under the curve is: 0.885900096515901\n"
     ]
    },
    {
     "data": {
      "text/plain": [
       "0.885900096515901"
      ]
     },
     "execution_count": 44,
     "metadata": {},
     "output_type": "execute_result"
    }
   ],
   "source": [
    "cal_AUC(adaBoostModel)"
   ]
  },
  {
   "cell_type": "code",
   "execution_count": 45,
   "metadata": {},
   "outputs": [
    {
     "data": {
      "text/plain": [
       "0.9014302565614863"
      ]
     },
     "execution_count": 45,
     "metadata": {},
     "output_type": "execute_result"
    }
   ],
   "source": [
    "#Gradient Boosting Model of the dataSet:\n",
    "gradBoostModel = GradientBoostingClassifier(n_estimators=50, random_state=1)\n",
    "gradBoostModel.fit(x_train, y_train)\n",
    "pred = gradBoostModel.predict(x_test)\n",
    "gradBoostModel.score(x_test, y_test)"
   ]
  },
  {
   "cell_type": "code",
   "execution_count": 46,
   "metadata": {},
   "outputs": [
    {
     "name": "stdout",
     "output_type": "stream",
     "text": [
      "The classificaiton report of the model is: \n",
      "              precision    recall  f1-score   support\n",
      "\n",
      "           1       0.63      0.33      0.43      1551\n",
      "           0       0.92      0.98      0.95     12013\n",
      "\n",
      "    accuracy                           0.90     13564\n",
      "   macro avg       0.78      0.65      0.69     13564\n",
      "weighted avg       0.89      0.90      0.89     13564\n",
      "\n"
     ]
    }
   ],
   "source": [
    "classification_report_of_model(y_test, pred)"
   ]
  },
  {
   "cell_type": "code",
   "execution_count": 47,
   "metadata": {},
   "outputs": [
    {
     "data": {
      "image/png": "[encoded data removed]",
      "text/plain": [
       "<Figure size 432x288 with 2 Axes>"
      ]
     },
     "metadata": {
      "needs_background": "light"
     },
     "output_type": "display_data"
    }
   ],
   "source": [
    "create_confusionMat(y_test, pred)"
   ]
  },
  {
   "cell_type": "code",
   "execution_count": 48,
   "metadata": {},
   "outputs": [
    {
     "name": "stdout",
     "output_type": "stream",
     "text": [
      "The area under the curve is: 0.896784447409568\n"
     ]
    },
    {
     "data": {
      "text/plain": [
       "0.896784447409568"
      ]
     },
     "execution_count": 48,
     "metadata": {},
     "output_type": "execute_result"
    }
   ],
   "source": [
    "cal_AUC(gradBoostModel)"
   ]
  },
  {
   "cell_type": "markdown",
   "metadata": {},
   "source": [
    "From the Boosting models, the **gradient bossting** is better than adaptive boosting as the f1 score is high as well as the score is 90.14"
   ]
  },
  {
   "cell_type": "markdown",
   "metadata": {},
   "source": [
    "**=========================================================================================================================**"
   ]
  },
  {
   "cell_type": "markdown",
   "metadata": {},
   "source": [
    "Now, let us create a random forest model of the given data Set. We will be using the already created decision tree model 'dTree' for this purpose."
   ]
  },
  {
   "cell_type": "code",
   "execution_count": 49,
   "metadata": {},
   "outputs": [
    {
     "data": {
      "text/plain": [
       "0.8984812739604836"
      ]
     },
     "execution_count": 49,
     "metadata": {},
     "output_type": "execute_result"
    }
   ],
   "source": [
    "#The random forest model:\n",
    "rf_model = RandomForestClassifier(n_estimators=59, random_state=1)\n",
    "rf_model.fit(x_train, y_train)\n",
    "pred = rf_model.predict(x_test)\n",
    "rf_model.score(x_test, y_test)"
   ]
  },
  {
   "cell_type": "code",
   "execution_count": 50,
   "metadata": {},
   "outputs": [
    {
     "name": "stdout",
     "output_type": "stream",
     "text": [
      "The classificaiton report of the model is: \n",
      "              precision    recall  f1-score   support\n",
      "\n",
      "           1       0.59      0.38      0.46      1551\n",
      "           0       0.92      0.97      0.94     12013\n",
      "\n",
      "    accuracy                           0.90     13564\n",
      "   macro avg       0.76      0.67      0.70     13564\n",
      "weighted avg       0.88      0.90      0.89     13564\n",
      "\n"
     ]
    }
   ],
   "source": [
    "classification_report_of_model(y_test, pred)"
   ]
  },
  {
   "cell_type": "code",
   "execution_count": 51,
   "metadata": {},
   "outputs": [
    {
     "data": {
      "image/png": "[encoded data removed]",
      "text/plain": [
       "<Figure size 432x288 with 2 Axes>"
      ]
     },
     "metadata": {
      "needs_background": "light"
     },
     "output_type": "display_data"
    }
   ],
   "source": [
    "create_confusionMat(y_test, pred)"
   ]
  },
  {
   "cell_type": "code",
   "execution_count": 52,
   "metadata": {},
   "outputs": [
    {
     "name": "stdout",
     "output_type": "stream",
     "text": [
      "The area under the curve is: 0.8866539810756271\n"
     ]
    },
    {
     "data": {
      "text/plain": [
       "0.8866539810756271"
      ]
     },
     "execution_count": 52,
     "metadata": {},
     "output_type": "execute_result"
    }
   ],
   "source": [
    "cal_AUC(rf_model)"
   ]
  },
  {
   "cell_type": "markdown",
   "metadata": {},
   "source": [
    "From the above models, summarizing the scores:\n",
    "    \n",
    "| Sr. No | Model | Score | AUC |\n",
    "| --- | --- | --- | --- |\n",
    "| 1 | Bagging with Decision Tree | 89.08 | 89.16 |\n",
    "| 2 | Gradient Boosting | 90.14 | 89.67 |\n",
    "| 3 | Random Forest | 89.84 | 88.66 |"
   ]
  },
  {
   "cell_type": "markdown",
   "metadata": {},
   "source": [
    "Thus from the above table, for this dataSet the best model seems to be the Gradient Boosting model to predict that the customer will subscribe for the term deposit with the bank or not."
   ]
  },
  {
   "cell_type": "markdown",
   "metadata": {},
   "source": [
    "**========================================================================================================================**\n",
    "**========================================================================================================================**\n"
   ]
  },
  {
   "cell_type": "markdown",
   "metadata": {},
   "source": [
    "The above section was to create models with the dataSet where outliers were not handled. Treating the outliers mean to remove the outliers from the dataSet and prepare the model without them. Thus, in the following section we'll prepare models of the data Set where outliers are treated.\n",
    "\n",
    "Now we've already prepared a dataSet without outliers in data analysis and cleansing section. Lets work out with the same."
   ]
  },
  {
   "cell_type": "code",
   "execution_count": 53,
   "metadata": {},
   "outputs": [
    {
     "data": {
      "text/html": [
       "<div>\n",
       "<style scoped>\n",
       "    .dataframe tbody tr th:only-of-type {\n",
       "        vertical-align: middle;\n",
       "    }\n",
       "\n",
       "    .dataframe tbody tr th {\n",
       "        vertical-align: top;\n",
       "    }\n",
       "\n",
       "    .dataframe thead th {\n",
       "        text-align: right;\n",
       "    }\n",
       "</style>\n",
       "<table border=\"1\" class=\"dataframe\">\n",
       "  <thead>\n",
       "    <tr style=\"text-align: right;\">\n",
       "      <th></th>\n",
       "      <th>age</th>\n",
       "      <th>job</th>\n",
       "      <th>marital</th>\n",
       "      <th>education</th>\n",
       "      <th>default</th>\n",
       "      <th>balance</th>\n",
       "      <th>housing</th>\n",
       "      <th>loan</th>\n",
       "      <th>contact</th>\n",
       "      <th>day</th>\n",
       "      <th>month</th>\n",
       "      <th>duration</th>\n",
       "      <th>campaign</th>\n",
       "      <th>poutcome</th>\n",
       "      <th>Target</th>\n",
       "      <th>pdays</th>\n",
       "      <th>previous</th>\n",
       "    </tr>\n",
       "  </thead>\n",
       "  <tbody>\n",
       "    <tr>\n",
       "      <th>0</th>\n",
       "      <td>58</td>\n",
       "      <td>4</td>\n",
       "      <td>2</td>\n",
       "      <td>3</td>\n",
       "      <td>1</td>\n",
       "      <td>2143</td>\n",
       "      <td>2</td>\n",
       "      <td>1</td>\n",
       "      <td>3</td>\n",
       "      <td>5</td>\n",
       "      <td>5</td>\n",
       "      <td>261</td>\n",
       "      <td>1</td>\n",
       "      <td>3</td>\n",
       "      <td>0</td>\n",
       "      <td>-1</td>\n",
       "      <td>0</td>\n",
       "    </tr>\n",
       "    <tr>\n",
       "      <th>1</th>\n",
       "      <td>44</td>\n",
       "      <td>9</td>\n",
       "      <td>3</td>\n",
       "      <td>2</td>\n",
       "      <td>1</td>\n",
       "      <td>29</td>\n",
       "      <td>2</td>\n",
       "      <td>1</td>\n",
       "      <td>3</td>\n",
       "      <td>5</td>\n",
       "      <td>5</td>\n",
       "      <td>151</td>\n",
       "      <td>1</td>\n",
       "      <td>3</td>\n",
       "      <td>0</td>\n",
       "      <td>-1</td>\n",
       "      <td>0</td>\n",
       "    </tr>\n",
       "    <tr>\n",
       "      <th>2</th>\n",
       "      <td>33</td>\n",
       "      <td>2</td>\n",
       "      <td>2</td>\n",
       "      <td>2</td>\n",
       "      <td>1</td>\n",
       "      <td>2</td>\n",
       "      <td>2</td>\n",
       "      <td>2</td>\n",
       "      <td>3</td>\n",
       "      <td>5</td>\n",
       "      <td>5</td>\n",
       "      <td>76</td>\n",
       "      <td>1</td>\n",
       "      <td>3</td>\n",
       "      <td>0</td>\n",
       "      <td>-1</td>\n",
       "      <td>0</td>\n",
       "    </tr>\n",
       "    <tr>\n",
       "      <th>3</th>\n",
       "      <td>47</td>\n",
       "      <td>1</td>\n",
       "      <td>2</td>\n",
       "      <td>4</td>\n",
       "      <td>1</td>\n",
       "      <td>1506</td>\n",
       "      <td>2</td>\n",
       "      <td>1</td>\n",
       "      <td>3</td>\n",
       "      <td>5</td>\n",
       "      <td>5</td>\n",
       "      <td>92</td>\n",
       "      <td>1</td>\n",
       "      <td>3</td>\n",
       "      <td>0</td>\n",
       "      <td>-1</td>\n",
       "      <td>0</td>\n",
       "    </tr>\n",
       "    <tr>\n",
       "      <th>4</th>\n",
       "      <td>33</td>\n",
       "      <td>11</td>\n",
       "      <td>3</td>\n",
       "      <td>4</td>\n",
       "      <td>1</td>\n",
       "      <td>1</td>\n",
       "      <td>1</td>\n",
       "      <td>1</td>\n",
       "      <td>3</td>\n",
       "      <td>5</td>\n",
       "      <td>5</td>\n",
       "      <td>198</td>\n",
       "      <td>1</td>\n",
       "      <td>3</td>\n",
       "      <td>0</td>\n",
       "      <td>-1</td>\n",
       "      <td>0</td>\n",
       "    </tr>\n",
       "    <tr>\n",
       "      <th>...</th>\n",
       "      <td>...</td>\n",
       "      <td>...</td>\n",
       "      <td>...</td>\n",
       "      <td>...</td>\n",
       "      <td>...</td>\n",
       "      <td>...</td>\n",
       "      <td>...</td>\n",
       "      <td>...</td>\n",
       "      <td>...</td>\n",
       "      <td>...</td>\n",
       "      <td>...</td>\n",
       "      <td>...</td>\n",
       "      <td>...</td>\n",
       "      <td>...</td>\n",
       "      <td>...</td>\n",
       "      <td>...</td>\n",
       "      <td>...</td>\n",
       "    </tr>\n",
       "    <tr>\n",
       "      <th>45198</th>\n",
       "      <td>37</td>\n",
       "      <td>4</td>\n",
       "      <td>2</td>\n",
       "      <td>3</td>\n",
       "      <td>1</td>\n",
       "      <td>1428</td>\n",
       "      <td>1</td>\n",
       "      <td>1</td>\n",
       "      <td>0</td>\n",
       "      <td>16</td>\n",
       "      <td>11</td>\n",
       "      <td>333</td>\n",
       "      <td>2</td>\n",
       "      <td>3</td>\n",
       "      <td>0</td>\n",
       "      <td>-1</td>\n",
       "      <td>0</td>\n",
       "    </tr>\n",
       "    <tr>\n",
       "      <th>45202</th>\n",
       "      <td>34</td>\n",
       "      <td>0</td>\n",
       "      <td>3</td>\n",
       "      <td>2</td>\n",
       "      <td>1</td>\n",
       "      <td>557</td>\n",
       "      <td>1</td>\n",
       "      <td>1</td>\n",
       "      <td>0</td>\n",
       "      <td>17</td>\n",
       "      <td>11</td>\n",
       "      <td>224</td>\n",
       "      <td>1</td>\n",
       "      <td>3</td>\n",
       "      <td>1</td>\n",
       "      <td>-1</td>\n",
       "      <td>0</td>\n",
       "    </tr>\n",
       "    <tr>\n",
       "      <th>45203</th>\n",
       "      <td>23</td>\n",
       "      <td>8</td>\n",
       "      <td>3</td>\n",
       "      <td>3</td>\n",
       "      <td>1</td>\n",
       "      <td>113</td>\n",
       "      <td>1</td>\n",
       "      <td>1</td>\n",
       "      <td>0</td>\n",
       "      <td>17</td>\n",
       "      <td>11</td>\n",
       "      <td>266</td>\n",
       "      <td>1</td>\n",
       "      <td>3</td>\n",
       "      <td>1</td>\n",
       "      <td>-1</td>\n",
       "      <td>0</td>\n",
       "    </tr>\n",
       "    <tr>\n",
       "      <th>45205</th>\n",
       "      <td>25</td>\n",
       "      <td>9</td>\n",
       "      <td>3</td>\n",
       "      <td>2</td>\n",
       "      <td>1</td>\n",
       "      <td>505</td>\n",
       "      <td>1</td>\n",
       "      <td>2</td>\n",
       "      <td>0</td>\n",
       "      <td>17</td>\n",
       "      <td>11</td>\n",
       "      <td>386</td>\n",
       "      <td>2</td>\n",
       "      <td>3</td>\n",
       "      <td>1</td>\n",
       "      <td>-1</td>\n",
       "      <td>0</td>\n",
       "    </tr>\n",
       "    <tr>\n",
       "      <th>45209</th>\n",
       "      <td>57</td>\n",
       "      <td>1</td>\n",
       "      <td>2</td>\n",
       "      <td>2</td>\n",
       "      <td>1</td>\n",
       "      <td>668</td>\n",
       "      <td>1</td>\n",
       "      <td>1</td>\n",
       "      <td>1</td>\n",
       "      <td>17</td>\n",
       "      <td>11</td>\n",
       "      <td>508</td>\n",
       "      <td>4</td>\n",
       "      <td>3</td>\n",
       "      <td>0</td>\n",
       "      <td>-1</td>\n",
       "      <td>0</td>\n",
       "    </tr>\n",
       "  </tbody>\n",
       "</table>\n",
       "<p>28193 rows × 17 columns</p>\n",
       "</div>"
      ],
      "text/plain": [
       "       age  job  marital  education  default  balance  housing  loan  contact  \\\n",
       "0       58    4        2          3        1     2143        2     1        3   \n",
       "1       44    9        3          2        1       29        2     1        3   \n",
       "2       33    2        2          2        1        2        2     2        3   \n",
       "3       47    1        2          4        1     1506        2     1        3   \n",
       "4       33   11        3          4        1        1        1     1        3   \n",
       "...    ...  ...      ...        ...      ...      ...      ...   ...      ...   \n",
       "45198   37    4        2          3        1     1428        1     1        0   \n",
       "45202   34    0        3          2        1      557        1     1        0   \n",
       "45203   23    8        3          3        1      113        1     1        0   \n",
       "45205   25    9        3          2        1      505        1     2        0   \n",
       "45209   57    1        2          2        1      668        1     1        1   \n",
       "\n",
       "       day  month  duration  campaign poutcome  Target  pdays  previous  \n",
       "0        5      5       261         1        3       0     -1         0  \n",
       "1        5      5       151         1        3       0     -1         0  \n",
       "2        5      5        76         1        3       0     -1         0  \n",
       "3        5      5        92         1        3       0     -1         0  \n",
       "4        5      5       198         1        3       0     -1         0  \n",
       "...    ...    ...       ...       ...      ...     ...    ...       ...  \n",
       "45198   16     11       333         2        3       0     -1         0  \n",
       "45202   17     11       224         1        3       1     -1         0  \n",
       "45203   17     11       266         1        3       1     -1         0  \n",
       "45205   17     11       386         2        3       1     -1         0  \n",
       "45209   17     11       508         4        3       0     -1         0  \n",
       "\n",
       "[28193 rows x 17 columns]"
      ]
     },
     "execution_count": 53,
     "metadata": {},
     "output_type": "execute_result"
    }
   ],
   "source": [
    "dataSet_withoutOutliers.dropna()"
   ]
  },
  {
   "cell_type": "markdown",
   "metadata": {},
   "source": [
    "**========================================================================================================================**\n",
    "Now splitting the above dataSet with no outliers to train the models:"
   ]
  },
  {
   "cell_type": "code",
   "execution_count": 54,
   "metadata": {},
   "outputs": [],
   "source": [
    "X_Values = dataSet_withoutOutliers.drop(['age','default','day','month','Target'],axis=1)\n",
    "Y_Values = dataSet_withoutOutliers['Target']\n",
    "\n",
    "x_train,x_test,y_train,y_test = train_test_split(X_Values,Y_Values,test_size = 0.3, random_state = 1)"
   ]
  },
  {
   "cell_type": "code",
   "execution_count": 55,
   "metadata": {},
   "outputs": [
    {
     "data": {
      "text/html": [
       "<div>\n",
       "<style scoped>\n",
       "    .dataframe tbody tr th:only-of-type {\n",
       "        vertical-align: middle;\n",
       "    }\n",
       "\n",
       "    .dataframe tbody tr th {\n",
       "        vertical-align: top;\n",
       "    }\n",
       "\n",
       "    .dataframe thead th {\n",
       "        text-align: right;\n",
       "    }\n",
       "</style>\n",
       "<table border=\"1\" class=\"dataframe\">\n",
       "  <thead>\n",
       "    <tr style=\"text-align: right;\">\n",
       "      <th></th>\n",
       "      <th>job</th>\n",
       "      <th>marital</th>\n",
       "      <th>education</th>\n",
       "      <th>balance</th>\n",
       "      <th>housing</th>\n",
       "      <th>loan</th>\n",
       "      <th>contact</th>\n",
       "      <th>duration</th>\n",
       "      <th>campaign</th>\n",
       "      <th>poutcome</th>\n",
       "      <th>pdays</th>\n",
       "      <th>previous</th>\n",
       "    </tr>\n",
       "  </thead>\n",
       "  <tbody>\n",
       "    <tr>\n",
       "      <th>0</th>\n",
       "      <td>4</td>\n",
       "      <td>2</td>\n",
       "      <td>3</td>\n",
       "      <td>2143</td>\n",
       "      <td>2</td>\n",
       "      <td>1</td>\n",
       "      <td>3</td>\n",
       "      <td>261</td>\n",
       "      <td>1</td>\n",
       "      <td>3</td>\n",
       "      <td>-1</td>\n",
       "      <td>0</td>\n",
       "    </tr>\n",
       "    <tr>\n",
       "      <th>1</th>\n",
       "      <td>9</td>\n",
       "      <td>3</td>\n",
       "      <td>2</td>\n",
       "      <td>29</td>\n",
       "      <td>2</td>\n",
       "      <td>1</td>\n",
       "      <td>3</td>\n",
       "      <td>151</td>\n",
       "      <td>1</td>\n",
       "      <td>3</td>\n",
       "      <td>-1</td>\n",
       "      <td>0</td>\n",
       "    </tr>\n",
       "    <tr>\n",
       "      <th>2</th>\n",
       "      <td>2</td>\n",
       "      <td>2</td>\n",
       "      <td>2</td>\n",
       "      <td>2</td>\n",
       "      <td>2</td>\n",
       "      <td>2</td>\n",
       "      <td>3</td>\n",
       "      <td>76</td>\n",
       "      <td>1</td>\n",
       "      <td>3</td>\n",
       "      <td>-1</td>\n",
       "      <td>0</td>\n",
       "    </tr>\n",
       "    <tr>\n",
       "      <th>3</th>\n",
       "      <td>1</td>\n",
       "      <td>2</td>\n",
       "      <td>4</td>\n",
       "      <td>1506</td>\n",
       "      <td>2</td>\n",
       "      <td>1</td>\n",
       "      <td>3</td>\n",
       "      <td>92</td>\n",
       "      <td>1</td>\n",
       "      <td>3</td>\n",
       "      <td>-1</td>\n",
       "      <td>0</td>\n",
       "    </tr>\n",
       "    <tr>\n",
       "      <th>4</th>\n",
       "      <td>11</td>\n",
       "      <td>3</td>\n",
       "      <td>4</td>\n",
       "      <td>1</td>\n",
       "      <td>1</td>\n",
       "      <td>1</td>\n",
       "      <td>3</td>\n",
       "      <td>198</td>\n",
       "      <td>1</td>\n",
       "      <td>3</td>\n",
       "      <td>-1</td>\n",
       "      <td>0</td>\n",
       "    </tr>\n",
       "    <tr>\n",
       "      <th>...</th>\n",
       "      <td>...</td>\n",
       "      <td>...</td>\n",
       "      <td>...</td>\n",
       "      <td>...</td>\n",
       "      <td>...</td>\n",
       "      <td>...</td>\n",
       "      <td>...</td>\n",
       "      <td>...</td>\n",
       "      <td>...</td>\n",
       "      <td>...</td>\n",
       "      <td>...</td>\n",
       "      <td>...</td>\n",
       "    </tr>\n",
       "    <tr>\n",
       "      <th>45198</th>\n",
       "      <td>4</td>\n",
       "      <td>2</td>\n",
       "      <td>3</td>\n",
       "      <td>1428</td>\n",
       "      <td>1</td>\n",
       "      <td>1</td>\n",
       "      <td>0</td>\n",
       "      <td>333</td>\n",
       "      <td>2</td>\n",
       "      <td>3</td>\n",
       "      <td>-1</td>\n",
       "      <td>0</td>\n",
       "    </tr>\n",
       "    <tr>\n",
       "      <th>45202</th>\n",
       "      <td>0</td>\n",
       "      <td>3</td>\n",
       "      <td>2</td>\n",
       "      <td>557</td>\n",
       "      <td>1</td>\n",
       "      <td>1</td>\n",
       "      <td>0</td>\n",
       "      <td>224</td>\n",
       "      <td>1</td>\n",
       "      <td>3</td>\n",
       "      <td>-1</td>\n",
       "      <td>0</td>\n",
       "    </tr>\n",
       "    <tr>\n",
       "      <th>45203</th>\n",
       "      <td>8</td>\n",
       "      <td>3</td>\n",
       "      <td>3</td>\n",
       "      <td>113</td>\n",
       "      <td>1</td>\n",
       "      <td>1</td>\n",
       "      <td>0</td>\n",
       "      <td>266</td>\n",
       "      <td>1</td>\n",
       "      <td>3</td>\n",
       "      <td>-1</td>\n",
       "      <td>0</td>\n",
       "    </tr>\n",
       "    <tr>\n",
       "      <th>45205</th>\n",
       "      <td>9</td>\n",
       "      <td>3</td>\n",
       "      <td>2</td>\n",
       "      <td>505</td>\n",
       "      <td>1</td>\n",
       "      <td>2</td>\n",
       "      <td>0</td>\n",
       "      <td>386</td>\n",
       "      <td>2</td>\n",
       "      <td>3</td>\n",
       "      <td>-1</td>\n",
       "      <td>0</td>\n",
       "    </tr>\n",
       "    <tr>\n",
       "      <th>45209</th>\n",
       "      <td>1</td>\n",
       "      <td>2</td>\n",
       "      <td>2</td>\n",
       "      <td>668</td>\n",
       "      <td>1</td>\n",
       "      <td>1</td>\n",
       "      <td>1</td>\n",
       "      <td>508</td>\n",
       "      <td>4</td>\n",
       "      <td>3</td>\n",
       "      <td>-1</td>\n",
       "      <td>0</td>\n",
       "    </tr>\n",
       "  </tbody>\n",
       "</table>\n",
       "<p>28193 rows × 12 columns</p>\n",
       "</div>"
      ],
      "text/plain": [
       "       job  marital  education  balance  housing  loan  contact  duration  \\\n",
       "0        4        2          3     2143        2     1        3       261   \n",
       "1        9        3          2       29        2     1        3       151   \n",
       "2        2        2          2        2        2     2        3        76   \n",
       "3        1        2          4     1506        2     1        3        92   \n",
       "4       11        3          4        1        1     1        3       198   \n",
       "...    ...      ...        ...      ...      ...   ...      ...       ...   \n",
       "45198    4        2          3     1428        1     1        0       333   \n",
       "45202    0        3          2      557        1     1        0       224   \n",
       "45203    8        3          3      113        1     1        0       266   \n",
       "45205    9        3          2      505        1     2        0       386   \n",
       "45209    1        2          2      668        1     1        1       508   \n",
       "\n",
       "       campaign poutcome  pdays  previous  \n",
       "0             1        3     -1         0  \n",
       "1             1        3     -1         0  \n",
       "2             1        3     -1         0  \n",
       "3             1        3     -1         0  \n",
       "4             1        3     -1         0  \n",
       "...         ...      ...    ...       ...  \n",
       "45198         2        3     -1         0  \n",
       "45202         1        3     -1         0  \n",
       "45203         1        3     -1         0  \n",
       "45205         2        3     -1         0  \n",
       "45209         4        3     -1         0  \n",
       "\n",
       "[28193 rows x 12 columns]"
      ]
     },
     "execution_count": 55,
     "metadata": {},
     "output_type": "execute_result"
    }
   ],
   "source": [
    "X_Values"
   ]
  },
  {
   "cell_type": "code",
   "execution_count": null,
   "metadata": {},
   "outputs": [],
   "source": [
    "#Training a Logistic Model with the above data:\n",
    "\n",
    "logisticReg = LogisticRegression(solver = 'liblinear')\n",
    "logisticReg.fit(x_train,y_train)\n",
    "pred = logisticReg.predict(x_test)\n",
    "logisticReg.score(x_test,y_test)"
   ]
  },
  {
   "cell_type": "code",
   "execution_count": null,
   "metadata": {},
   "outputs": [],
   "source": [
    "classification_report_of_model(y_test, pred)"
   ]
  },
  {
   "cell_type": "code",
   "execution_count": null,
   "metadata": {},
   "outputs": [],
   "source": [
    "#Training a KNN model with the above data:\n",
    "\n",
    "KNNmodel = KNeighborsClassifier(n_neighbors=5, weights='distance')\n",
    "KNNmodel.fit(x_train,y_train)\n",
    "pred = KNNmodel.predict(x_test)\n",
    "KNNmodel.score(x_test,y_test)"
   ]
  },
  {
   "cell_type": "code",
   "execution_count": null,
   "metadata": {},
   "outputs": [],
   "source": [
    "classification_report_of_model(y_test, pred)"
   ]
  },
  {
   "cell_type": "code",
   "execution_count": null,
   "metadata": {},
   "outputs": [],
   "source": [
    "#Training a Naive Bayes model with the above data:\n",
    "\n",
    "naiveBmodel = GaussianNB()\n",
    "naiveBmodel.fit(x_train,y_train)\n",
    "pred = naiveBmodel.predict(x_test)\n",
    "naiveBmodel.score(x_test,y_test)"
   ]
  },
  {
   "cell_type": "code",
   "execution_count": null,
   "metadata": {},
   "outputs": [],
   "source": [
    "classification_report_of_model(y_test, pred)"
   ]
  },
  {
   "cell_type": "markdown",
   "metadata": {},
   "source": [
    "Now creating a decision tree from the above dataSet"
   ]
  },
  {
   "cell_type": "code",
   "execution_count": null,
   "metadata": {},
   "outputs": [],
   "source": [
    "dTree = DecisionTreeClassifier(criterion='gini', random_state=1)\n",
    "dTree.fit(x_train,y_train)\n",
    "dTree.score(x_test, y_test)"
   ]
  },
  {
   "cell_type": "code",
   "execution_count": null,
   "metadata": {},
   "outputs": [],
   "source": [
    "#Creating a model with max depth of 6 that reduces the overfitting of the model.\n",
    "dTree = DecisionTreeClassifier(criterion='gini',max_depth=6, random_state=1)\n",
    "dTree.fit(x_train,y_train)\n",
    "pred = dTree.predict(x_test)\n",
    "dTree.score(x_test, y_test)"
   ]
  },
  {
   "cell_type": "code",
   "execution_count": null,
   "metadata": {},
   "outputs": [],
   "source": [
    "classification_report_of_model(y_test, pred)"
   ]
  },
  {
   "cell_type": "code",
   "execution_count": null,
   "metadata": {},
   "outputs": [],
   "source": [
    "create_confusionMat(y_test, pred)"
   ]
  },
  {
   "cell_type": "markdown",
   "metadata": {},
   "source": [
    "From the above models, we can conclude that for the dataSet, the best suitable models with highest f1 score is Logistic Regression model and the Decision Tree. Hence we'll consider these models for futher processes."
   ]
  },
  {
   "cell_type": "markdown",
   "metadata": {},
   "source": [
    "We will be creating 2 Bagging models: \n",
    "1. With base interpreter as Logistic Regression Model\n",
    "2. With base interpreter as dTree."
   ]
  },
  {
   "cell_type": "code",
   "execution_count": null,
   "metadata": {},
   "outputs": [],
   "source": [
    "#Bagging with Logistic Regression Model\n",
    "logRegBag = BaggingClassifier(base_estimator=logisticReg, n_estimators=50, random_state=1)\n",
    "logRegBag.fit(x_train,y_train)\n",
    "pred = logRegBag.predict(x_test)\n",
    "logRegBag.score(x_test, y_test)"
   ]
  },
  {
   "cell_type": "markdown",
   "metadata": {},
   "source": [
    "Here we can see the bagging of logistic regression is slightly greater than the basic regression model."
   ]
  },
  {
   "cell_type": "code",
   "execution_count": null,
   "metadata": {},
   "outputs": [],
   "source": [
    "create_confusionMat(y_test,pred)"
   ]
  },
  {
   "cell_type": "code",
   "execution_count": null,
   "metadata": {},
   "outputs": [],
   "source": [
    "classification_report_of_model(y_test, pred)"
   ]
  },
  {
   "cell_type": "code",
   "execution_count": null,
   "metadata": {},
   "outputs": [],
   "source": [
    "cal_AUC(logRegBag)"
   ]
  },
  {
   "cell_type": "markdown",
   "metadata": {},
   "source": [
    "**=======================================================================================================================**"
   ]
  },
  {
   "cell_type": "code",
   "execution_count": null,
   "metadata": {},
   "outputs": [],
   "source": [
    "#Bagging with Decision Tree\n",
    "dTreeBag = BaggingClassifier(base_estimator=dTree, n_estimators=50, random_state=1)\n",
    "dTreeBag.fit(x_train,y_train)\n",
    "pred = dTree.predict(x_test)\n",
    "dTree.score(x_test, y_test)"
   ]
  },
  {
   "cell_type": "code",
   "execution_count": null,
   "metadata": {},
   "outputs": [],
   "source": [
    "create_confusionMat(y_test,pred)"
   ]
  },
  {
   "cell_type": "code",
   "execution_count": null,
   "metadata": {},
   "outputs": [],
   "source": [
    "classification_report_of_model(y_test, pred)"
   ]
  },
  {
   "cell_type": "code",
   "execution_count": null,
   "metadata": {},
   "outputs": [],
   "source": [
    "cal_AUC(dTreeBag)"
   ]
  },
  {
   "cell_type": "markdown",
   "metadata": {},
   "source": [
    "Hence, from the above Bagging models the **Decision Tree bagging model** is to be considered as it has highest F1 Score and a AUC of 85.37 %"
   ]
  },
  {
   "cell_type": "markdown",
   "metadata": {},
   "source": [
    "**========================================================================================================================**"
   ]
  },
  {
   "cell_type": "markdown",
   "metadata": {},
   "source": [
    "Now, creating Boosting models that is:\n",
    "1. Adaptive Boosting Model\n",
    "2. Gradient Boosting Model"
   ]
  },
  {
   "cell_type": "code",
   "execution_count": null,
   "metadata": {},
   "outputs": [],
   "source": [
    "#Adaptive Boosting model of the given dataSet:\n",
    "adaBoostModel = AdaBoostClassifier(n_estimators=20, random_state=1)\n",
    "adaBoostModel.fit(x_train, y_train)\n",
    "pred = adaBoostModel.predict(x_test)\n",
    "adaBoostModel.score(x_test, y_test)"
   ]
  },
  {
   "cell_type": "code",
   "execution_count": null,
   "metadata": {},
   "outputs": [],
   "source": [
    "classification_report_of_model(y_test, pred)"
   ]
  },
  {
   "cell_type": "code",
   "execution_count": null,
   "metadata": {},
   "outputs": [],
   "source": [
    "create_confusionMat(y_test, pred)"
   ]
  },
  {
   "cell_type": "code",
   "execution_count": null,
   "metadata": {},
   "outputs": [],
   "source": [
    "cal_AUC(adaBoostModel)"
   ]
  },
  {
   "cell_type": "code",
   "execution_count": null,
   "metadata": {},
   "outputs": [],
   "source": [
    "#Gradient Boosting Model of the dataSet:\n",
    "gradBoostModel = GradientBoostingClassifier(n_estimators=50, random_state=1)\n",
    "gradBoostModel.fit(x_train, y_train)\n",
    "pred = gradBoostModel.predict(x_test)\n",
    "gradBoostModel.score(x_test, y_test)"
   ]
  },
  {
   "cell_type": "code",
   "execution_count": null,
   "metadata": {},
   "outputs": [],
   "source": [
    "classification_report_of_model(y_test, pred)"
   ]
  },
  {
   "cell_type": "code",
   "execution_count": null,
   "metadata": {},
   "outputs": [],
   "source": [
    "create_confusionMat(y_test, pred)"
   ]
  },
  {
   "cell_type": "code",
   "execution_count": null,
   "metadata": {},
   "outputs": [],
   "source": [
    "cal_AUC(gradBoostModel)"
   ]
  },
  {
   "cell_type": "markdown",
   "metadata": {},
   "source": [
    "From the Boosting models, the **gradient bossting** is better than adaptive boosting as the f1 score is high as well as the score is 94.36"
   ]
  },
  {
   "cell_type": "markdown",
   "metadata": {},
   "source": [
    "**=========================================================================================================================**"
   ]
  },
  {
   "cell_type": "markdown",
   "metadata": {},
   "source": [
    "Now, let us create a random forest model of the given data Set. We will be using the already created decision tree model 'dTree' for this purpose."
   ]
  },
  {
   "cell_type": "code",
   "execution_count": null,
   "metadata": {},
   "outputs": [],
   "source": [
    "#The random forest model:\n",
    "rf_model = RandomForestClassifier(n_estimators=59, random_state=1)\n",
    "rf_model.fit(x_train, y_train)\n",
    "pred = rf_model.predict(x_test)\n",
    "rf_model.score(x_test, y_test)"
   ]
  },
  {
   "cell_type": "code",
   "execution_count": null,
   "metadata": {},
   "outputs": [],
   "source": [
    "classification_report_of_model(y_test, pred)"
   ]
  },
  {
   "cell_type": "code",
   "execution_count": null,
   "metadata": {},
   "outputs": [],
   "source": [
    "create_confusionMat(y_test, pred)"
   ]
  },
  {
   "cell_type": "code",
   "execution_count": null,
   "metadata": {},
   "outputs": [],
   "source": [
    "cal_AUC(rf_model)"
   ]
  },
  {
   "cell_type": "markdown",
   "metadata": {},
   "source": [
    "From the above models, summarizing the scores:\n",
    "    \n",
    "| Sr. No | Model | Score | AUC |\n",
    "| --- | --- | --- | --- |\n",
    "| 1 | Bagging with Decision Tree | 94.34 | 84.74 |\n",
    "| 2 | Gradient Boosting | 94.36 | 86.05 |\n",
    "| 3 | Random Forest | 93.97 | 81.11 |"
   ]
  },
  {
   "cell_type": "markdown",
   "metadata": {},
   "source": [
    "Thus from the above table, for this dataSet without the outliers, the best model seems to be the **Gradient Boosting model** to predict that the customer will subscribe for the term deposit with the bank or not."
   ]
  },
  {
   "cell_type": "markdown",
   "metadata": {},
   "source": [
    "**========================================================================================================================**\n",
    "**========================================================================================================================**"
   ]
  },
  {
   "cell_type": "markdown",
   "metadata": {},
   "source": [
    "**Now, let us build a decision tree and a random forest from the dataSet without outliers where we won't consider the attribute '*duration*' in order to get a realistic predictive model, as mentioned in the problem statement.**"
   ]
  },
  {
   "cell_type": "code",
   "execution_count": null,
   "metadata": {},
   "outputs": [],
   "source": [
    "X_Val = dataSet_withoutOutliers.drop(['age','default','day','month','Target','duration'],axis=1)\n",
    "Y_Val = dataSet_withoutOutliers['Target']\n",
    "\n",
    "x_train,x_test,y_train,y_test = train_test_split(X_Val,Y_Val,test_size = 0.3, random_state = 1)"
   ]
  },
  {
   "cell_type": "code",
   "execution_count": null,
   "metadata": {},
   "outputs": [],
   "source": [
    "#Creating a random forest:\n",
    "rf_realistic = RandomForestClassifier(n_estimators = 50, random_state=1)\n",
    "rf_realistic.fit(x_train, y_train)\n",
    "rf_realistic.score(x_test,y_test)"
   ]
  },
  {
   "cell_type": "code",
   "execution_count": null,
   "metadata": {},
   "outputs": [],
   "source": [
    "pred = rf_realistic.predict(x_test)\n",
    "create_confusionMat(y_test,pred)"
   ]
  },
  {
   "cell_type": "code",
   "execution_count": null,
   "metadata": {},
   "outputs": [],
   "source": [
    "classification_report_of_model(y_test, pred)"
   ]
  },
  {
   "cell_type": "code",
   "execution_count": null,
   "metadata": {},
   "outputs": [],
   "source": [
    "cal_AUC(rf_realistic)"
   ]
  },
  {
   "cell_type": "code",
   "execution_count": null,
   "metadata": {},
   "outputs": [],
   "source": [
    "#Creating a Decision Tree.\n",
    "dTree_realistic = DecisionTreeClassifier(criterion='gini', random_state=1)\n",
    "dTree_realistic.fit(x_train,y_train)\n",
    "dTree_realistic.score(x_test,y_test)"
   ]
  },
  {
   "cell_type": "code",
   "execution_count": null,
   "metadata": {},
   "outputs": [],
   "source": [
    "pred = dTree_realistic.predict(x_test)\n",
    "create_confusionMat(y_test,pred)"
   ]
  },
  {
   "cell_type": "code",
   "execution_count": null,
   "metadata": {},
   "outputs": [],
   "source": [
    "classification_report_of_model(y_test, pred)"
   ]
  },
  {
   "cell_type": "code",
   "execution_count": null,
   "metadata": {},
   "outputs": [],
   "source": [
    "cal_AUC(dTree_realistic)"
   ]
  },
  {
   "cell_type": "markdown",
   "metadata": {},
   "source": [
    "Thus from the above 2 modelswe find that using a realistic approach that is eliminating attribute 'duration', the obvious indicator to the target as 'Yes', the scores for dTree and random forest reduces, especially their Area under the curve."
   ]
  }
 ],
 "metadata": {
  "kernelspec": {
   "display_name": "Python 3",
   "language": "python",
   "name": "python3"
  },
  "language_info": {
   "codemirror_mode": {
    "name": "ipython",
    "version": 3
   },
   "file_extension": ".py",
   "mimetype": "text/x-python",
   "name": "python",
   "nbconvert_exporter": "python",
   "pygments_lexer": "ipython3",
   "version": "3.7.3"
  }
 },
 "nbformat": 4,
 "nbformat_minor": 2
}
